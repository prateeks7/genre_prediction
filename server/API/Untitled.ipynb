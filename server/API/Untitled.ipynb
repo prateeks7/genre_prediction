{
 "cells": [
  {
   "cell_type": "code",
   "execution_count": null,
   "id": "ab626b86-05ef-4e5c-bffe-ff57a4decbf1",
   "metadata": {},
   "outputs": [
    {
     "name": "stdout",
     "output_type": "stream",
     "text": [
      "\u001b[32mINFO\u001b[0m:     Will watch for changes in these directories: ['/Users/prateeksharma/Documents/Genre Prediction/server/API']\n",
      "\u001b[32mINFO\u001b[0m:     Uvicorn running on \u001b[1mhttp://127.0.0.1:8080\u001b[0m (Press CTRL+C to quit)\n",
      "\u001b[32mINFO\u001b[0m:     Started reloader process [\u001b[36m\u001b[1m22540\u001b[0m] using \u001b[36m\u001b[1mWatchFiles\u001b[0m\n",
      "\u001b[32mINFO\u001b[0m:     Started server process [\u001b[36m22542\u001b[0m]\n",
      "\u001b[32mINFO\u001b[0m:     Waiting for application startup.\n",
      "\u001b[32mINFO\u001b[0m:     Application startup complete.\n",
      "{'id': 'e82cef49-967e-47d1-9e11-500191b21e48', 'downloadUrl': 'http://45.76.15.135/e82cef49-967e-47d1-9e11-500191b21e48.mp3', 'status': 'CONVERTING', 'format': 'MP3', 'title': None, 'startAt': '24/04/2025 09:37:15', 'endAt': None, 'startTime': None, 'endTime': None, 'quality': 0, 'retry': 0, 'callbackUrl': None}\n",
      "{'id': 'e82cef49-967e-47d1-9e11-500191b21e48', 'downloadUrl': 'http://45.76.15.135/e82cef49-967e-47d1-9e11-500191b21e48.mp3', 'status': 'CONVERTING', 'format': 'MP3', 'title': None, 'startAt': '24/04/2025 09:37:15', 'endAt': None, 'startTime': None, 'endTime': None, 'quality': 0, 'retry': 0, 'callbackUrl': None}\n",
      "{'id': 'e82cef49-967e-47d1-9e11-500191b21e48', 'downloadUrl': 'http://45.76.15.135/e82cef49-967e-47d1-9e11-500191b21e48.mp3', 'status': 'CONVERTING', 'format': 'MP3', 'title': None, 'startAt': '24/04/2025 09:37:15', 'endAt': None, 'startTime': None, 'endTime': None, 'quality': 0, 'retry': 0, 'callbackUrl': None}\n",
      "{'id': 'e82cef49-967e-47d1-9e11-500191b21e48', 'downloadUrl': 'http://45.76.15.135/e82cef49-967e-47d1-9e11-500191b21e48.mp3', 'status': 'CONVERTING', 'format': 'MP3', 'title': None, 'startAt': '24/04/2025 09:37:15', 'endAt': None, 'startTime': None, 'endTime': None, 'quality': 0, 'retry': 0, 'callbackUrl': None}\n",
      "{'id': 'e82cef49-967e-47d1-9e11-500191b21e48', 'downloadUrl': 'http://45.76.15.135/e82cef49-967e-47d1-9e11-500191b21e48.mp3', 'status': 'CONVERTING', 'format': 'MP3', 'title': None, 'startAt': '24/04/2025 09:37:15', 'endAt': None, 'startTime': None, 'endTime': None, 'quality': 0, 'retry': 0, 'callbackUrl': None}\n",
      "{'id': 'e82cef49-967e-47d1-9e11-500191b21e48', 'downloadUrl': 'http://45.76.15.135/e82cef49-967e-47d1-9e11-500191b21e48.mp3', 'status': 'CONVERTING', 'format': 'MP3', 'title': None, 'startAt': '24/04/2025 09:37:15', 'endAt': None, 'startTime': None, 'endTime': None, 'quality': 0, 'retry': 0, 'callbackUrl': None}\n",
      "{'id': 'e82cef49-967e-47d1-9e11-500191b21e48', 'downloadUrl': 'http://45.76.15.135/e82cef49-967e-47d1-9e11-500191b21e48.mp3', 'status': 'CONVERTING', 'format': 'MP3', 'title': None, 'startAt': '24/04/2025 09:37:15', 'endAt': None, 'startTime': None, 'endTime': None, 'quality': 0, 'retry': 0, 'callbackUrl': None}\n",
      "{'id': 'e82cef49-967e-47d1-9e11-500191b21e48', 'downloadUrl': 'http://45.76.15.135/e82cef49-967e-47d1-9e11-500191b21e48.mp3', 'status': 'CONVERTING', 'format': 'MP3', 'title': None, 'startAt': '24/04/2025 09:37:15', 'endAt': None, 'startTime': None, 'endTime': None, 'quality': 0, 'retry': 0, 'callbackUrl': None}\n",
      "{'id': 'e82cef49-967e-47d1-9e11-500191b21e48', 'downloadUrl': 'http://45.76.15.135/e82cef49-967e-47d1-9e11-500191b21e48.mp3', 'status': 'CONVERTING', 'format': 'MP3', 'title': None, 'startAt': '24/04/2025 09:37:15', 'endAt': None, 'startTime': None, 'endTime': None, 'quality': 0, 'retry': 0, 'callbackUrl': None}\n",
      "{'id': 'e82cef49-967e-47d1-9e11-500191b21e48', 'downloadUrl': 'http://45.76.15.135/e82cef49-967e-47d1-9e11-500191b21e48.mp3', 'status': 'CONVERTING', 'format': 'MP3', 'title': None, 'startAt': '24/04/2025 09:37:15', 'endAt': None, 'startTime': None, 'endTime': None, 'quality': 0, 'retry': 0, 'callbackUrl': None}\n",
      "{'id': 'e82cef49-967e-47d1-9e11-500191b21e48', 'downloadUrl': 'http://45.76.15.135/e82cef49-967e-47d1-9e11-500191b21e48.mp3', 'status': 'CONVERTING', 'format': 'MP3', 'title': None, 'startAt': '24/04/2025 09:37:15', 'endAt': None, 'startTime': None, 'endTime': None, 'quality': 0, 'retry': 0, 'callbackUrl': None}\n",
      "{'id': 'e82cef49-967e-47d1-9e11-500191b21e48', 'downloadUrl': 'http://45.76.15.135/e82cef49-967e-47d1-9e11-500191b21e48.mp3', 'status': 'CONVERTING', 'format': 'MP3', 'title': None, 'startAt': '24/04/2025 09:37:15', 'endAt': None, 'startTime': None, 'endTime': None, 'quality': 0, 'retry': 0, 'callbackUrl': None}\n",
      "{'id': 'e82cef49-967e-47d1-9e11-500191b21e48', 'downloadUrl': 'http://45.76.15.135/e82cef49-967e-47d1-9e11-500191b21e48.mp3', 'status': 'CONVERTING', 'format': 'MP3', 'title': None, 'startAt': '24/04/2025 09:37:15', 'endAt': None, 'startTime': None, 'endTime': None, 'quality': 0, 'retry': 0, 'callbackUrl': None}\n",
      "{'id': 'e82cef49-967e-47d1-9e11-500191b21e48', 'downloadUrl': 'http://45.76.15.135/e82cef49-967e-47d1-9e11-500191b21e48.mp3', 'status': 'CONVERTING', 'format': 'MP3', 'title': None, 'startAt': '24/04/2025 09:37:15', 'endAt': None, 'startTime': None, 'endTime': None, 'quality': 0, 'retry': 0, 'callbackUrl': None}\n",
      "{'id': 'e82cef49-967e-47d1-9e11-500191b21e48', 'downloadUrl': 'http://45.76.15.135/e82cef49-967e-47d1-9e11-500191b21e48.mp3', 'status': 'CONVERTING', 'format': 'MP3', 'title': None, 'startAt': '24/04/2025 09:37:15', 'endAt': None, 'startTime': None, 'endTime': None, 'quality': 0, 'retry': 0, 'callbackUrl': None}\n",
      "{'id': 'e82cef49-967e-47d1-9e11-500191b21e48', 'downloadUrl': 'http://45.76.15.135/e82cef49-967e-47d1-9e11-500191b21e48.mp3', 'status': 'CONVERTING', 'format': 'MP3', 'title': None, 'startAt': '24/04/2025 09:37:15', 'endAt': None, 'startTime': None, 'endTime': None, 'quality': 0, 'retry': 0, 'callbackUrl': None}\n",
      "{'id': 'e82cef49-967e-47d1-9e11-500191b21e48', 'downloadUrl': 'http://45.76.15.135/e82cef49-967e-47d1-9e11-500191b21e48.mp3', 'status': 'CONVERTING', 'format': 'MP3', 'title': None, 'startAt': '24/04/2025 09:37:15', 'endAt': None, 'startTime': None, 'endTime': None, 'quality': 0, 'retry': 0, 'callbackUrl': None}\n",
      "{'id': 'e82cef49-967e-47d1-9e11-500191b21e48', 'downloadUrl': 'http://45.76.15.135/e82cef49-967e-47d1-9e11-500191b21e48.mp3', 'status': 'CONVERTING', 'format': 'MP3', 'title': None, 'startAt': '24/04/2025 09:37:15', 'endAt': None, 'startTime': None, 'endTime': None, 'quality': 0, 'retry': 0, 'callbackUrl': None}\n",
      "{'id': 'e82cef49-967e-47d1-9e11-500191b21e48', 'downloadUrl': 'http://45.76.15.135/e82cef49-967e-47d1-9e11-500191b21e48.mp3', 'status': 'CONVERTING', 'format': 'MP3', 'title': None, 'startAt': '24/04/2025 09:37:15', 'endAt': None, 'startTime': None, 'endTime': None, 'quality': 0, 'retry': 0, 'callbackUrl': None}\n",
      "{'id': 'e82cef49-967e-47d1-9e11-500191b21e48', 'downloadUrl': 'http://45.76.15.135/e82cef49-967e-47d1-9e11-500191b21e48.mp3', 'status': 'CONVERTING', 'format': 'MP3', 'title': None, 'startAt': '24/04/2025 09:37:15', 'endAt': None, 'startTime': None, 'endTime': None, 'quality': 0, 'retry': 0, 'callbackUrl': None}\n",
      "{'id': 'e82cef49-967e-47d1-9e11-500191b21e48', 'downloadUrl': 'http://45.76.15.135/e82cef49-967e-47d1-9e11-500191b21e48.mp3', 'status': 'CONVERTING', 'format': 'MP3', 'title': None, 'startAt': '24/04/2025 09:37:15', 'endAt': None, 'startTime': None, 'endTime': None, 'quality': 0, 'retry': 0, 'callbackUrl': None}\n",
      "{'id': 'e82cef49-967e-47d1-9e11-500191b21e48', 'downloadUrl': 'http://45.76.15.135/e82cef49-967e-47d1-9e11-500191b21e48.mp3', 'status': 'CONVERTING', 'format': 'MP3', 'title': None, 'startAt': '24/04/2025 09:37:15', 'endAt': None, 'startTime': None, 'endTime': None, 'quality': 0, 'retry': 0, 'callbackUrl': None}\n",
      "{'id': 'e82cef49-967e-47d1-9e11-500191b21e48', 'downloadUrl': 'http://45.76.15.135/e82cef49-967e-47d1-9e11-500191b21e48.mp3', 'status': 'CONVERTING', 'format': 'MP3', 'title': None, 'startAt': '24/04/2025 09:37:15', 'endAt': None, 'startTime': None, 'endTime': None, 'quality': 0, 'retry': 0, 'callbackUrl': None}\n",
      "{'id': 'e82cef49-967e-47d1-9e11-500191b21e48', 'downloadUrl': 'http://45.76.15.135/e82cef49-967e-47d1-9e11-500191b21e48.mp3', 'status': 'CONVERTING', 'format': 'MP3', 'title': None, 'startAt': '24/04/2025 09:37:15', 'endAt': None, 'startTime': None, 'endTime': None, 'quality': 0, 'retry': 0, 'callbackUrl': None}\n",
      "{'id': 'e82cef49-967e-47d1-9e11-500191b21e48', 'downloadUrl': 'http://45.76.15.135/e82cef49-967e-47d1-9e11-500191b21e48.mp3', 'status': 'AVAILABLE', 'format': 'MP3', 'title': '21 Savage - Bank Account (Official Audio)', 'startAt': '24/04/2025 09:37:15', 'endAt': '24/04/2025 09:37:30', 'startTime': None, 'endTime': None, 'quality': 0, 'retry': 0, 'callbackUrl': None}\n"
     ]
    }
   ],
   "source": [
    "!uvicorn main:app --reload --port 8080"
   ]
  },
  {
   "cell_type": "code",
   "execution_count": null,
   "id": "952c909c-644a-4095-8738-ee15dd7994d0",
   "metadata": {},
   "outputs": [],
   "source": []
  }
 ],
 "metadata": {
  "kernelspec": {
   "display_name": "Python [conda env:base] *",
   "language": "python",
   "name": "conda-base-py"
  },
  "language_info": {
   "codemirror_mode": {
    "name": "ipython",
    "version": 3
   },
   "file_extension": ".py",
   "mimetype": "text/x-python",
   "name": "python",
   "nbconvert_exporter": "python",
   "pygments_lexer": "ipython3",
   "version": "3.12.7"
  }
 },
 "nbformat": 4,
 "nbformat_minor": 5
}
