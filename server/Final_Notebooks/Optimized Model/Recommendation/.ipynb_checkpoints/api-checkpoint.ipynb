{
 "cells": [
  {
   "cell_type": "code",
   "execution_count": 24,
   "id": "bd8e92f3-9967-47ac-a8f0-93f8b93cc87c",
   "metadata": {},
   "outputs": [],
   "source": [
    "from fastapi import FastAPI\n",
    "from pydantic import BaseModel\n",
    "from api_pipeline import run_pipeline\n",
    "\n",
    "app = FastAPI()\n",
    "\n",
    "class Input(BaseModel):\n",
    "    features: list[float]\n",
    "\n",
    "@app.post(\"/recommend\")\n",
    "def execute(input: Input):\n",
    "    result = run_pipeline(input.features)\n",
    "    return {\"result\": result}\n"
   ]
  },
  {
   "cell_type": "code",
   "execution_count": 30,
   "id": "400e3911-154f-4334-ab11-9e5a18a2ca43",
   "metadata": {},
   "outputs": [
    {
     "name": "stdout",
     "output_type": "stream",
     "text": [
      "\u001b[31mERROR\u001b[0m:    Error loading ASGI app. Could not import module \"main\".\n"
     ]
    }
   ],
   "source": [
    "!uvicorn main:app --host localhost --port 5050"
   ]
  },
  {
   "cell_type": "code",
   "execution_count": null,
   "id": "506815ae-add8-4942-92c4-f4f49e76e2d0",
   "metadata": {},
   "outputs": [],
   "source": []
  }
 ],
 "metadata": {
  "kernelspec": {
   "display_name": "Python [conda env:base] *",
   "language": "python",
   "name": "conda-base-py"
  },
  "language_info": {
   "codemirror_mode": {
    "name": "ipython",
    "version": 3
   },
   "file_extension": ".py",
   "mimetype": "text/x-python",
   "name": "python",
   "nbconvert_exporter": "python",
   "pygments_lexer": "ipython3",
   "version": "3.12.7"
  }
 },
 "nbformat": 4,
 "nbformat_minor": 5
}
