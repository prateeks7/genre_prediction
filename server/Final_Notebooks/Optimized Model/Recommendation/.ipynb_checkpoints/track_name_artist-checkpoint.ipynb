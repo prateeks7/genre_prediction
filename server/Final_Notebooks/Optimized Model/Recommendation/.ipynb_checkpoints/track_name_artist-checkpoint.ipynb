{
 "cells": [
  {
   "cell_type": "code",
   "execution_count": 11,
   "id": "c912973a-00e0-424e-a094-fcde7dc9edce",
   "metadata": {},
   "outputs": [],
   "source": [
    "import pandas as pd\n",
    "import os\n",
    "import ast"
   ]
  },
  {
   "cell_type": "code",
   "execution_count": 13,
   "id": "cbfc9b72-1b7f-482a-b90f-e3af31d5f136",
   "metadata": {},
   "outputs": [],
   "source": [
    "def load(filepath):\n",
    "\n",
    "    filename = os.path.basename(filepath)\n",
    "\n",
    "    if 'features' in filename:\n",
    "        return pd.read_csv(filepath, index_col=0, header=[0, 1, 2])\n",
    "\n",
    "    if 'echonest' in filename:\n",
    "        return pd.read_csv(filepath, index_col=0, header=[0, 1, 2])\n",
    "\n",
    "    if 'genres' in filename:\n",
    "        return pd.read_csv(filepath, index_col=0)\n",
    "\n",
    "    if 'tracks' in filename:\n",
    "        tracks = pd.read_csv(filepath, index_col=0, header=[0, 1])\n",
    "\n",
    "        COLUMNS = [('track', 'tags'), ('album', 'tags'), ('artist', 'tags'),\n",
    "                   ('track', 'genres'), ('track', 'genres_all')]\n",
    "        for column in COLUMNS:\n",
    "            tracks[column] = tracks[column].map(ast.literal_eval)\n",
    "\n",
    "        COLUMNS = [('track', 'date_created'), ('track', 'date_recorded'),\n",
    "                   ('album', 'date_created'), ('album', 'date_released'),\n",
    "                   ('artist', 'date_created'), ('artist', 'active_year_begin'),\n",
    "                   ('artist', 'active_year_end')]\n",
    "        for column in COLUMNS:\n",
    "            tracks[column] = pd.to_datetime(tracks[column])\n",
    "\n",
    "        SUBSETS = ('small', 'medium', 'large')\n",
    "        try:\n",
    "            tracks['set', 'subset'] = tracks['set', 'subset'].astype(\n",
    "                    'category', categories=SUBSETS, ordered=True)\n",
    "        except (ValueError, TypeError):\n",
    "            # the categories and ordered arguments were removed in pandas 0.25\n",
    "            tracks['set', 'subset'] = tracks['set', 'subset'].astype(\n",
    "                     pd.CategoricalDtype(categories=SUBSETS, ordered=True))\n",
    "\n",
    "        COLUMNS = [('track', 'genre_top'), ('track', 'license'),\n",
    "                   ('album', 'type'), ('album', 'information'),\n",
    "                   ('artist', 'bio')]\n",
    "        for column in COLUMNS:\n",
    "            tracks[column] = tracks[column].astype('category')\n",
    "\n",
    "        return tracks\n"
   ]
  },
  {
   "cell_type": "code",
   "execution_count": 15,
   "id": "95db3a1b-c315-45fe-8ed6-b3055d53d51b",
   "metadata": {},
   "outputs": [],
   "source": [
    "tracks = load(\"../../../fma_metadata/tracks.csv\")"
   ]
  },
  {
   "cell_type": "code",
   "execution_count": 18,
   "id": "013e419f-5c19-4667-90ce-8c37c967b39c",
   "metadata": {},
   "outputs": [],
   "source": [
    "track_name_artist = pd.DataFrame(columns = [\"title\",\"artist\",\"genre_top\"])"
   ]
  },
  {
   "cell_type": "code",
   "execution_count": 22,
   "id": "519a4f3e-4649-4aee-ac14-198d886613eb",
   "metadata": {},
   "outputs": [],
   "source": [
    "track_name_artist[\"title\"] = tracks['track'][\"title\"]"
   ]
  },
  {
   "cell_type": "code",
   "execution_count": 24,
   "id": "74fe601c-a580-4d65-b948-645125000b59",
   "metadata": {},
   "outputs": [],
   "source": [
    "track_name_artist[\"artist\"]  = tracks['artist'][\"name\"]"
   ]
  },
  {
   "cell_type": "code",
   "execution_count": 26,
   "id": "0ba3cfd9-83e6-4232-9adc-b43a7bf52ad2",
   "metadata": {},
   "outputs": [],
   "source": [
    "track_name_artist[\"genre_top\"]  = tracks['track'][\"genre_top\"]"
   ]
  },
  {
   "cell_type": "code",
   "execution_count": 32,
   "id": "dd843e93-851e-4473-890b-5e3703c24788",
   "metadata": {},
   "outputs": [],
   "source": [
    "track_name_artist.to_csv(\"track_title_artist.csv\")"
   ]
  },
  {
   "cell_type": "code",
   "execution_count": 785,
   "id": "6eec3d22-5bcd-4a5a-8655-a856e8537220",
   "metadata": {},
   "outputs": [
    {
     "data": {
      "text/plain": [
       "track_id\n",
       "123965         BenJamin Banger\n",
       "145744          Cheese N Pot-C\n",
       "97691                   Tickle\n",
       "36653                 Diploide\n",
       "141159               godmanwho\n",
       "94235                 ICE FLEX\n",
       "25801             Buguinha Dub\n",
       "60496                     MUTE\n",
       "75647            Stinky Treats\n",
       "34098     Propaganda Anonymous\n",
       "Name: name, dtype: object"
      ]
     },
     "execution_count": 785,
     "metadata": {},
     "output_type": "execute_result"
    }
   ],
   "source": [
    "artist_name"
   ]
  },
  {
   "cell_type": "code",
   "execution_count": 787,
   "id": "88ae1412-273e-4819-85e7-9c16e11c767f",
   "metadata": {},
   "outputs": [
    {
     "data": {
      "text/plain": [
       "track_id\n",
       "123965          Hip-Hop\n",
       "145744          Hip-Hop\n",
       "97691           Hip-Hop\n",
       "36653           Hip-Hop\n",
       "141159          Hip-Hop\n",
       "94235           Hip-Hop\n",
       "25801     International\n",
       "60496           Hip-Hop\n",
       "75647           Hip-Hop\n",
       "34098           Hip-Hop\n",
       "Name: genre_top, dtype: category\n",
       "Categories (16, object): ['Blues', 'Classical', 'Country', 'Easy Listening', ..., 'Pop', 'Rock', 'Soul-RnB', 'Spoken']"
      ]
     },
     "execution_count": 787,
     "metadata": {},
     "output_type": "execute_result"
    }
   ],
   "source": [
    "genre_name"
   ]
  },
  {
   "cell_type": "code",
   "execution_count": null,
   "id": "6b27fe50-e124-4bdd-8ead-5a368ad92e96",
   "metadata": {},
   "outputs": [],
   "source": []
  }
 ],
 "metadata": {
  "kernelspec": {
   "display_name": "Python [conda env:base] *",
   "language": "python",
   "name": "conda-base-py"
  },
  "language_info": {
   "codemirror_mode": {
    "name": "ipython",
    "version": 3
   },
   "file_extension": ".py",
   "mimetype": "text/x-python",
   "name": "python",
   "nbconvert_exporter": "python",
   "pygments_lexer": "ipython3",
   "version": "3.12.7"
  }
 },
 "nbformat": 4,
 "nbformat_minor": 5
}
