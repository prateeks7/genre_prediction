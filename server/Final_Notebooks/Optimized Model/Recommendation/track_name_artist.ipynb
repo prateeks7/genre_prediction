{
 "cells": [
  {
   "cell_type": "code",
   "execution_count": 11,
   "id": "c912973a-00e0-424e-a094-fcde7dc9edce",
   "metadata": {},
   "outputs": [],
   "source": [
    "import pandas as pd\n",
    "import os\n",
    "import ast"
   ]
  },
  {
   "cell_type": "code",
   "execution_count": 13,
   "id": "cbfc9b72-1b7f-482a-b90f-e3af31d5f136",
   "metadata": {},
   "outputs": [],
   "source": [
    "def load(filepath):\n",
    "\n",
    "    filename = os.path.basename(filepath)\n",
    "\n",
    "    if 'features' in filename:\n",
    "        return pd.read_csv(filepath, index_col=0, header=[0, 1, 2])\n",
    "\n",
    "    if 'echonest' in filename:\n",
    "        return pd.read_csv(filepath, index_col=0, header=[0, 1, 2])\n",
    "\n",
    "    if 'genres' in filename:\n",
    "        return pd.read_csv(filepath, index_col=0)\n",
    "\n",
    "    if 'tracks' in filename:\n",
    "        tracks = pd.read_csv(filepath, index_col=0, header=[0, 1])\n",
    "\n",
    "        COLUMNS = [('track', 'tags'), ('album', 'tags'), ('artist', 'tags'),\n",
    "                   ('track', 'genres'), ('track', 'genres_all')]\n",
    "        for column in COLUMNS:\n",
    "            tracks[column] = tracks[column].map(ast.literal_eval)\n",
    "\n",
    "        COLUMNS = [('track', 'date_created'), ('track', 'date_recorded'),\n",
    "                   ('album', 'date_created'), ('album', 'date_released'),\n",
    "                   ('artist', 'date_created'), ('artist', 'active_year_begin'),\n",
    "                   ('artist', 'active_year_end')]\n",
    "        for column in COLUMNS:\n",
    "            tracks[column] = pd.to_datetime(tracks[column])\n",
    "\n",
    "        SUBSETS = ('small', 'medium', 'large')\n",
    "        try:\n",
    "            tracks['set', 'subset'] = tracks['set', 'subset'].astype(\n",
    "                    'category', categories=SUBSETS, ordered=True)\n",
    "        except (ValueError, TypeError):\n",
    "            # the categories and ordered arguments were removed in pandas 0.25\n",
    "            tracks['set', 'subset'] = tracks['set', 'subset'].astype(\n",
    "                     pd.CategoricalDtype(categories=SUBSETS, ordered=True))\n",
    "\n",
    "        COLUMNS = [('track', 'genre_top'), ('track', 'license'),\n",
    "                   ('album', 'type'), ('album', 'information'),\n",
    "                   ('artist', 'bio')]\n",
    "        for column in COLUMNS:\n",
    "            tracks[column] = tracks[column].astype('category')\n",
    "\n",
    "        return tracks\n"
   ]
  },
  {
   "cell_type": "code",
   "execution_count": 15,
   "id": "95db3a1b-c315-45fe-8ed6-b3055d53d51b",
   "metadata": {},
   "outputs": [],
   "source": [
    "tracks = load(\"../../../fma_metadata/tracks.csv\")"
   ]
  },
  {
   "cell_type": "code",
   "execution_count": 18,
   "id": "013e419f-5c19-4667-90ce-8c37c967b39c",
   "metadata": {},
   "outputs": [],
   "source": [
    "track_name_artist = pd.DataFrame(columns = [\"title\",\"artist\",\"genre_top\"])"
   ]
  },
  {
   "cell_type": "code",
   "execution_count": 22,
   "id": "519a4f3e-4649-4aee-ac14-198d886613eb",
   "metadata": {},
   "outputs": [],
   "source": [
    "track_name_artist[\"title\"] = tracks['track'][\"title\"]"
   ]
  },
  {
   "cell_type": "code",
   "execution_count": 24,
   "id": "74fe601c-a580-4d65-b948-645125000b59",
   "metadata": {},
   "outputs": [],
   "source": [
    "track_name_artist[\"artist\"]  = tracks['artist'][\"name\"]"
   ]
  },
  {
   "cell_type": "code",
   "execution_count": 26,
   "id": "0ba3cfd9-83e6-4232-9adc-b43a7bf52ad2",
   "metadata": {},
   "outputs": [],
   "source": [
    "track_name_artist[\"genre_top\"]  = tracks['track'][\"genre_top\"]"
   ]
  },
  {
   "cell_type": "code",
   "execution_count": 32,
   "id": "dd843e93-851e-4473-890b-5e3703c24788",
   "metadata": {},
   "outputs": [],
   "source": [
    "track_name_artist.to_csv(\"track_title_artist.csv\")"
   ]
  },
  {
   "cell_type": "code",
   "execution_count": 37,
   "id": "dde1e8ec-24ba-4cad-b1ee-767955e9f5d4",
   "metadata": {},
   "outputs": [
    {
     "data": {
      "text/html": [
       "<div>\n",
       "<style scoped>\n",
       "    .dataframe tbody tr th:only-of-type {\n",
       "        vertical-align: middle;\n",
       "    }\n",
       "\n",
       "    .dataframe tbody tr th {\n",
       "        vertical-align: top;\n",
       "    }\n",
       "\n",
       "    .dataframe thead th {\n",
       "        text-align: right;\n",
       "    }\n",
       "</style>\n",
       "<table border=\"1\" class=\"dataframe\">\n",
       "  <thead>\n",
       "    <tr style=\"text-align: right;\">\n",
       "      <th></th>\n",
       "      <th>track_id</th>\n",
       "      <th>title</th>\n",
       "      <th>artist</th>\n",
       "      <th>genre_top</th>\n",
       "    </tr>\n",
       "  </thead>\n",
       "  <tbody>\n",
       "    <tr>\n",
       "      <th>0</th>\n",
       "      <td>2</td>\n",
       "      <td>Food</td>\n",
       "      <td>AWOL</td>\n",
       "      <td>Hip-Hop</td>\n",
       "    </tr>\n",
       "    <tr>\n",
       "      <th>1</th>\n",
       "      <td>3</td>\n",
       "      <td>Electric Ave</td>\n",
       "      <td>AWOL</td>\n",
       "      <td>Hip-Hop</td>\n",
       "    </tr>\n",
       "    <tr>\n",
       "      <th>2</th>\n",
       "      <td>5</td>\n",
       "      <td>This World</td>\n",
       "      <td>AWOL</td>\n",
       "      <td>Hip-Hop</td>\n",
       "    </tr>\n",
       "    <tr>\n",
       "      <th>3</th>\n",
       "      <td>10</td>\n",
       "      <td>Freeway</td>\n",
       "      <td>Kurt Vile</td>\n",
       "      <td>Pop</td>\n",
       "    </tr>\n",
       "    <tr>\n",
       "      <th>4</th>\n",
       "      <td>20</td>\n",
       "      <td>Spiritual Level</td>\n",
       "      <td>Nicky Cook</td>\n",
       "      <td>NaN</td>\n",
       "    </tr>\n",
       "    <tr>\n",
       "      <th>...</th>\n",
       "      <td>...</td>\n",
       "      <td>...</td>\n",
       "      <td>...</td>\n",
       "      <td>...</td>\n",
       "    </tr>\n",
       "    <tr>\n",
       "      <th>106569</th>\n",
       "      <td>155316</td>\n",
       "      <td>The Auger</td>\n",
       "      <td>Spowder</td>\n",
       "      <td>Rock</td>\n",
       "    </tr>\n",
       "    <tr>\n",
       "      <th>106570</th>\n",
       "      <td>155317</td>\n",
       "      <td>Let's Skin Ruby</td>\n",
       "      <td>Spowder</td>\n",
       "      <td>Rock</td>\n",
       "    </tr>\n",
       "    <tr>\n",
       "      <th>106571</th>\n",
       "      <td>155318</td>\n",
       "      <td>My House Smells Like Kim Deal/Pulp</td>\n",
       "      <td>Spowder</td>\n",
       "      <td>Rock</td>\n",
       "    </tr>\n",
       "    <tr>\n",
       "      <th>106572</th>\n",
       "      <td>155319</td>\n",
       "      <td>The Man With Two Mouths</td>\n",
       "      <td>Spowder</td>\n",
       "      <td>Rock</td>\n",
       "    </tr>\n",
       "    <tr>\n",
       "      <th>106573</th>\n",
       "      <td>155320</td>\n",
       "      <td>Another Trick Up My Sleeve (Instrumental)</td>\n",
       "      <td>Forget the Whale</td>\n",
       "      <td>NaN</td>\n",
       "    </tr>\n",
       "  </tbody>\n",
       "</table>\n",
       "<p>106574 rows × 4 columns</p>\n",
       "</div>"
      ],
      "text/plain": [
       "        track_id                                      title            artist  \\\n",
       "0              2                                       Food              AWOL   \n",
       "1              3                               Electric Ave              AWOL   \n",
       "2              5                                 This World              AWOL   \n",
       "3             10                                    Freeway         Kurt Vile   \n",
       "4             20                            Spiritual Level        Nicky Cook   \n",
       "...          ...                                        ...               ...   \n",
       "106569    155316                                  The Auger           Spowder   \n",
       "106570    155317                            Let's Skin Ruby           Spowder   \n",
       "106571    155318         My House Smells Like Kim Deal/Pulp           Spowder   \n",
       "106572    155319                    The Man With Two Mouths           Spowder   \n",
       "106573    155320  Another Trick Up My Sleeve (Instrumental)  Forget the Whale   \n",
       "\n",
       "       genre_top  \n",
       "0        Hip-Hop  \n",
       "1        Hip-Hop  \n",
       "2        Hip-Hop  \n",
       "3            Pop  \n",
       "4            NaN  \n",
       "...          ...  \n",
       "106569      Rock  \n",
       "106570      Rock  \n",
       "106571      Rock  \n",
       "106572      Rock  \n",
       "106573       NaN  \n",
       "\n",
       "[106574 rows x 4 columns]"
      ]
     },
     "execution_count": 37,
     "metadata": {},
     "output_type": "execute_result"
    }
   ],
   "source": [
    "pd.read_csv(\"track_title_artist.csv\")"
   ]
  },
  {
   "cell_type": "code",
   "execution_count": 785,
   "id": "6eec3d22-5bcd-4a5a-8655-a856e8537220",
   "metadata": {},
   "outputs": [
    {
     "data": {
      "text/plain": [
       "track_id\n",
       "123965         BenJamin Banger\n",
       "145744          Cheese N Pot-C\n",
       "97691                   Tickle\n",
       "36653                 Diploide\n",
       "141159               godmanwho\n",
       "94235                 ICE FLEX\n",
       "25801             Buguinha Dub\n",
       "60496                     MUTE\n",
       "75647            Stinky Treats\n",
       "34098     Propaganda Anonymous\n",
       "Name: name, dtype: object"
      ]
     },
     "execution_count": 785,
     "metadata": {},
     "output_type": "execute_result"
    }
   ],
   "source": [
    "artist_name"
   ]
  },
  {
   "cell_type": "code",
   "execution_count": 787,
   "id": "88ae1412-273e-4819-85e7-9c16e11c767f",
   "metadata": {},
   "outputs": [
    {
     "data": {
      "text/plain": [
       "track_id\n",
       "123965          Hip-Hop\n",
       "145744          Hip-Hop\n",
       "97691           Hip-Hop\n",
       "36653           Hip-Hop\n",
       "141159          Hip-Hop\n",
       "94235           Hip-Hop\n",
       "25801     International\n",
       "60496           Hip-Hop\n",
       "75647           Hip-Hop\n",
       "34098           Hip-Hop\n",
       "Name: genre_top, dtype: category\n",
       "Categories (16, object): ['Blues', 'Classical', 'Country', 'Easy Listening', ..., 'Pop', 'Rock', 'Soul-RnB', 'Spoken']"
      ]
     },
     "execution_count": 787,
     "metadata": {},
     "output_type": "execute_result"
    }
   ],
   "source": [
    "genre_name"
   ]
  },
  {
   "cell_type": "code",
   "execution_count": null,
   "id": "6b27fe50-e124-4bdd-8ead-5a368ad92e96",
   "metadata": {},
   "outputs": [],
   "source": []
  }
 ],
 "metadata": {
  "kernelspec": {
   "display_name": "Python [conda env:base] *",
   "language": "python",
   "name": "conda-base-py"
  },
  "language_info": {
   "codemirror_mode": {
    "name": "ipython",
    "version": 3
   },
   "file_extension": ".py",
   "mimetype": "text/x-python",
   "name": "python",
   "nbconvert_exporter": "python",
   "pygments_lexer": "ipython3",
   "version": "3.12.7"
  }
 },
 "nbformat": 4,
 "nbformat_minor": 5
}
