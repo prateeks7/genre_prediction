{
 "cells": [
  {
   "cell_type": "code",
   "execution_count": 3,
   "id": "448b3185-b349-42ff-837c-e749ef7d75fe",
   "metadata": {},
   "outputs": [],
   "source": [
    "from extract_song_feature_links import run_url_prob_pipeline\n",
    "from recommendation_pipeline import new_song_recommendations"
   ]
  },
  {
   "cell_type": "code",
   "execution_count": 5,
   "id": "2aff5714-eb04-4db8-b22f-bafa87af9007",
   "metadata": {},
   "outputs": [],
   "source": [
    "# your_notebook.py (after cleanup)\n",
    "def run_pipeline():\n",
    "    get_new_song_genre_prob = run_url_prob_pipeline(\"https://www.youtube.com/watch?v=sV2t3tW_JTQ&pp=ygUMYmFuayBhY2NvdW50\")\n",
    "    recommendations = new_song_recommendations(get_new_song_genre_prob)\n",
    "    return recommendations"
   ]
  },
  {
   "cell_type": "code",
   "execution_count": 7,
   "id": "ee0b0294-a394-4d18-9656-5841b4b72b02",
   "metadata": {},
   "outputs": [
    {
     "name": "stderr",
     "output_type": "stream",
     "text": [
      "/Users/prateeksharma/Documents/Genre Prediction/Main Data and Notebooks/Final_Notebooks/Optimized Model/Recommendation/extract_song_feature_links.py:67: UserWarning: PySoundFile failed. Trying audioread instead.\n",
      "  x, sr = librosa.load(\"song.wav\", sr=None, mono=True)\n",
      "/Users/prateeksharma/Documents/Genre Prediction/Main Data and Notebooks/Final_Notebooks/Optimized Model/Recommendation/extract_song_feature_links.py:58: FutureWarning: Setting an item of incompatible dtype is deprecated and will raise an error in a future version of pandas. Value '[0.02900229]' has dtype incompatible with float32, please explicitly cast to a compatible dtype first.\n",
      "  features[name, 'mean'] = np.mean(values, axis=1)\n"
     ]
    }
   ],
   "source": [
    "recommendations = run_pipeline()"
   ]
  },
  {
   "cell_type": "code",
   "execution_count": 8,
   "id": "36f4b1f3-9c34-4898-a9bd-329891c21080",
   "metadata": {},
   "outputs": [
    {
     "data": {
      "text/html": [
       "<div>\n",
       "<style scoped>\n",
       "    .dataframe tbody tr th:only-of-type {\n",
       "        vertical-align: middle;\n",
       "    }\n",
       "\n",
       "    .dataframe tbody tr th {\n",
       "        vertical-align: top;\n",
       "    }\n",
       "\n",
       "    .dataframe thead th {\n",
       "        text-align: right;\n",
       "    }\n",
       "</style>\n",
       "<table border=\"1\" class=\"dataframe\">\n",
       "  <thead>\n",
       "    <tr style=\"text-align: right;\">\n",
       "      <th></th>\n",
       "      <th>title</th>\n",
       "      <th>artist</th>\n",
       "      <th>genre</th>\n",
       "    </tr>\n",
       "    <tr>\n",
       "      <th>track_id</th>\n",
       "      <th></th>\n",
       "      <th></th>\n",
       "      <th></th>\n",
       "    </tr>\n",
       "  </thead>\n",
       "  <tbody>\n",
       "    <tr>\n",
       "      <th>70208</th>\n",
       "      <td>Bittersweet Insomnia</td>\n",
       "      <td>Spray Lodge</td>\n",
       "      <td>Hip-Hop</td>\n",
       "    </tr>\n",
       "    <tr>\n",
       "      <th>136469</th>\n",
       "      <td>Don't (Bonus Non LP Track)</td>\n",
       "      <td>C-Doc</td>\n",
       "      <td>Hip-Hop</td>\n",
       "    </tr>\n",
       "    <tr>\n",
       "      <th>11791</th>\n",
       "      <td>The Cuchifritos Groove Instrumental     {Wilda...</td>\n",
       "      <td>6th Sense</td>\n",
       "      <td>Hip-Hop</td>\n",
       "    </tr>\n",
       "    <tr>\n",
       "      <th>130456</th>\n",
       "      <td>Til It Hurts (Munkee Mixx)</td>\n",
       "      <td>Pot-C</td>\n",
       "      <td>Hip-Hop</td>\n",
       "    </tr>\n",
       "    <tr>\n",
       "      <th>113408</th>\n",
       "      <td>Brick Wall</td>\n",
       "      <td>Simon Panrucker</td>\n",
       "      <td>Hip-Hop</td>\n",
       "    </tr>\n",
       "    <tr>\n",
       "      <th>130156</th>\n",
       "      <td>Funky Motion (AUG 8th Mixx)</td>\n",
       "      <td>Cheese N Pot-C</td>\n",
       "      <td>Hip-Hop</td>\n",
       "    </tr>\n",
       "    <tr>\n",
       "      <th>63854</th>\n",
       "      <td>The F***iteer</td>\n",
       "      <td>Just Plain Ant</td>\n",
       "      <td>Hip-Hop</td>\n",
       "    </tr>\n",
       "    <tr>\n",
       "      <th>90135</th>\n",
       "      <td>A Mission (For My Sins)</td>\n",
       "      <td>Twenty-One: Twenty-Four</td>\n",
       "      <td>Hip-Hop</td>\n",
       "    </tr>\n",
       "    <tr>\n",
       "      <th>60020</th>\n",
       "      <td>Temptations- PeeWee, Anjelly Nice, CAPITAL, Faith</td>\n",
       "      <td>ZuKrewe</td>\n",
       "      <td>Hip-Hop</td>\n",
       "    </tr>\n",
       "    <tr>\n",
       "      <th>71528</th>\n",
       "      <td>Laxatif Rudimentaire</td>\n",
       "      <td>Doctor Bux</td>\n",
       "      <td>Experimental</td>\n",
       "    </tr>\n",
       "  </tbody>\n",
       "</table>\n",
       "</div>"
      ],
      "text/plain": [
       "                                                      title  \\\n",
       "track_id                                                      \n",
       "70208                                  Bittersweet Insomnia   \n",
       "136469                           Don't (Bonus Non LP Track)   \n",
       "11791     The Cuchifritos Groove Instrumental     {Wilda...   \n",
       "130456                           Til It Hurts (Munkee Mixx)   \n",
       "113408                                           Brick Wall   \n",
       "130156                          Funky Motion (AUG 8th Mixx)   \n",
       "63854                                         The F***iteer   \n",
       "90135                               A Mission (For My Sins)   \n",
       "60020     Temptations- PeeWee, Anjelly Nice, CAPITAL, Faith   \n",
       "71528                                  Laxatif Rudimentaire   \n",
       "\n",
       "                           artist         genre  \n",
       "track_id                                         \n",
       "70208                 Spray Lodge       Hip-Hop  \n",
       "136469                      C-Doc       Hip-Hop  \n",
       "11791                   6th Sense       Hip-Hop  \n",
       "130456                      Pot-C       Hip-Hop  \n",
       "113408            Simon Panrucker       Hip-Hop  \n",
       "130156             Cheese N Pot-C       Hip-Hop  \n",
       "63854              Just Plain Ant       Hip-Hop  \n",
       "90135     Twenty-One: Twenty-Four       Hip-Hop  \n",
       "60020                     ZuKrewe       Hip-Hop  \n",
       "71528                  Doctor Bux  Experimental  "
      ]
     },
     "execution_count": 8,
     "metadata": {},
     "output_type": "execute_result"
    }
   ],
   "source": [
    "recommendations"
   ]
  }
 ],
 "metadata": {
  "kernelspec": {
   "display_name": "Python [conda env:base] *",
   "language": "python",
   "name": "conda-base-py"
  },
  "language_info": {
   "codemirror_mode": {
    "name": "ipython",
    "version": 3
   },
   "file_extension": ".py",
   "mimetype": "text/x-python",
   "name": "python",
   "nbconvert_exporter": "python",
   "pygments_lexer": "ipython3",
   "version": "3.12.7"
  }
 },
 "nbformat": 4,
 "nbformat_minor": 5
}
