{
 "cells": [
  {
   "cell_type": "code",
   "execution_count": 32,
   "id": "bd8e92f3-9967-47ac-a8f0-93f8b93cc87c",
   "metadata": {},
   "outputs": [],
   "source": [
    "# from fastapi import FastAPI\n",
    "# from pydantic import BaseModel\n",
    "# from api_pipeline import run_pipeline\n",
    "\n",
    "# app = FastAPI()\n",
    "\n",
    "# class Input(BaseModel):\n",
    "#     features: list[float]\n",
    "\n",
    "# @app.post(\"/recommend\")\n",
    "# def execute(input: Input):\n",
    "#     result = run_pipeline(input.features)\n",
    "#     return {\"result\": result}\n"
   ]
  },
  {
   "cell_type": "code",
   "execution_count": 1,
   "id": "400e3911-154f-4334-ab11-9e5a18a2ca43",
   "metadata": {},
   "outputs": [
    {
     "name": "stdout",
     "output_type": "stream",
     "text": [
      "\u001b[32mINFO\u001b[0m:     Started server process [\u001b[36m88745\u001b[0m]\n",
      "\u001b[32mINFO\u001b[0m:     Waiting for application startup.\n",
      "\u001b[32mINFO\u001b[0m:     Application startup complete.\n",
      "\u001b[32mINFO\u001b[0m:     Uvicorn running on \u001b[1mhttp://localhost:5050\u001b[0m (Press CTRL+C to quit)\n",
      "\u001b[32mINFO\u001b[0m:     ::1:53681 - \"\u001b[1mGET / HTTP/1.1\u001b[0m\" \u001b[31m404 Not Found\u001b[0m\n",
      "/Users/prateeksharma/Documents/Genre Prediction/Main Data and Notebooks/Final_Notebooks/Optimized Model/Recommendation/extract_song_feature_links.py:67: UserWarning: PySoundFile failed. Trying audioread instead.\n",
      "  x, sr = librosa.load(\"song.wav\", sr=None, mono=True)\n",
      "/Users/prateeksharma/Documents/Genre Prediction/Main Data and Notebooks/Final_Notebooks/Optimized Model/Recommendation/extract_song_feature_links.py:58: FutureWarning: Setting an item of incompatible dtype is deprecated and will raise an error in a future version of pandas. Value '[0.02900229]' has dtype incompatible with float32, please explicitly cast to a compatible dtype first.\n",
      "  features[name, 'mean'] = np.mean(values, axis=1)\n",
      "\u001b[32mINFO\u001b[0m:     ::1:53690 - \"\u001b[1mPOST /recommend HTTP/1.1\u001b[0m\" \u001b[32m200 OK\u001b[0m\n",
      "^C\n",
      "\u001b[32mINFO\u001b[0m:     Shutting down\n"
     ]
    }
   ],
   "source": [
    "!uvicorn main:app --host localhost --port 5050"
   ]
  },
  {
   "cell_type": "code",
   "execution_count": null,
   "id": "506815ae-add8-4942-92c4-f4f49e76e2d0",
   "metadata": {},
   "outputs": [],
   "source": []
  }
 ],
 "metadata": {
  "kernelspec": {
   "display_name": "Python [conda env:base] *",
   "language": "python",
   "name": "conda-base-py"
  },
  "language_info": {
   "codemirror_mode": {
    "name": "ipython",
    "version": 3
   },
   "file_extension": ".py",
   "mimetype": "text/x-python",
   "name": "python",
   "nbconvert_exporter": "python",
   "pygments_lexer": "ipython3",
   "version": "3.12.7"
  }
 },
 "nbformat": 4,
 "nbformat_minor": 5
}
