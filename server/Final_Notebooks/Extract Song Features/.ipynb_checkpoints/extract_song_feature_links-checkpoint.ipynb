{
 "cells": [
  {
   "cell_type": "code",
   "execution_count": 2,
   "metadata": {
    "colab": {
     "base_uri": "https://localhost:8080/"
    },
    "id": "2GJr7FxUcQgl",
    "outputId": "fbf7794a-34a4-402d-e2f7-8971720fd802"
   },
   "outputs": [
    {
     "name": "stdout",
     "output_type": "stream",
     "text": [
      "Requirement already satisfied: yt_dlp in /opt/anaconda3/lib/python3.12/site-packages (2025.3.31)\n",
      "zsh:1: unmatched \"\n"
     ]
    }
   ],
   "source": [
    "!pip install --upgrade yt_dlp\n",
    "!pip install pytubefix\""
   ]
  },
  {
   "cell_type": "code",
   "execution_count": 3,
   "metadata": {
    "colab": {
     "base_uri": "https://localhost:8080/"
    },
    "id": "2aWj91_M_HaP",
    "outputId": "0f0c16d5-754b-43fb-9007-dfa5cb43600c"
   },
   "outputs": [
    {
     "name": "stdout",
     "output_type": "stream",
     "text": [
      "Enter the destination (leave blank for current directory)\n",
      "21 Savage - Bank Account (Official Audio) has been successfully downloaded.\n"
     ]
    }
   ],
   "source": [
    "from pytubefix import YouTube\n",
    "import os\n",
    "\n",
    "# url input from user\n",
    "yt = YouTube(\"https://www.youtube.com/watch?v=sV2t3tW_JTQ\")\n",
    "\n",
    "# extract only audio\n",
    "video = yt.streams.filter(only_audio=True).first()\n",
    "\n",
    "# check for destination to save file\n",
    "print(\"Enter the destination (leave blank for current directory)\")\n",
    "destination = \"\"\n",
    "\n",
    "# download the file\n",
    "out_file = video.download(output_path=destination)\n",
    "\n",
    "# save the file\n",
    "base, ext = os.path.splitext(out_file)\n",
    "new_file = \"song\" + '.wav'\n",
    "os.rename(out_file, new_file)\n",
    "\n",
    "# result of success\n",
    "print(yt.title + \" has been successfully downloaded.\")"
   ]
  },
  {
   "cell_type": "code",
   "execution_count": 7,
   "metadata": {
    "id": "FhHvnKtcCFzC"
   },
   "outputs": [],
   "source": [
    "import os\n",
    "import multiprocessing\n",
    "import warnings\n",
    "import numpy as np\n",
    "from scipy import stats\n",
    "import pandas as pd\n",
    "import librosa\n",
    "from tqdm import tqdm\n",
    "def columns():\n",
    "    feature_sizes = dict(chroma_stft=12, chroma_cqt=12, chroma_cens=12,\n",
    "                         tonnetz=6, mfcc=20, rmse=1, zcr=1,\n",
    "                         spectral_centroid=1, spectral_bandwidth=1,\n",
    "                         spectral_contrast=7, spectral_rolloff=1,mel_spec=128)\n",
    "    moments = ('mean', 'std', 'skew', 'kurtosis', 'median', 'min', 'max')\n",
    "\n",
    "    columns = []\n",
    "    for name, size in feature_sizes.items():\n",
    "        for moment in moments:\n",
    "            it = ((name, moment, '{:02d}'.format(i+1)) for i in range(size))\n",
    "            columns.extend(it)\n",
    "\n",
    "    names = ('feature', 'statistics', 'number')\n",
    "    columns = pd.MultiIndex.from_tuples(columns, names=names)\n",
    "\n",
    "    # More efficient to slice if indexes are sorted.\n",
    "    return columns.sort_values()\n",
    "\n",
    "\n",
    "def compute_features():\n",
    "\n",
    "    features = pd.Series(index=columns(), dtype=np.float32)\n",
    "\n",
    "    # Catch warnings as exceptions (audioread leaks file descriptors).\n",
    "    warnings.filterwarnings('error', module='librosa')\n",
    "\n",
    "    def feature_stats(name, values):\n",
    "        features[name, 'mean'] = np.mean(values, axis=1)\n",
    "        features[name, 'std'] = np.std(values, axis=1)\n",
    "        features[name, 'skew'] = stats.skew(values, axis=1)\n",
    "        features[name, 'kurtosis'] = stats.kurtosis(values, axis=1)\n",
    "        features[name, 'median'] = np.median(values, axis=1)\n",
    "        features[name, 'min'] = np.min(values, axis=1)\n",
    "        features[name, 'max'] = np.max(values, axis=1)\n",
    "\n",
    "    try:\n",
    "        x, sr = librosa.load(\"song.wav\", sr=None, mono=True)  # kaiser_fast\n",
    "\n",
    "        f = librosa.feature.zero_crossing_rate(x, frame_length=2048, hop_length=512)\n",
    "        feature_stats('zcr', f)\n",
    "\n",
    "        cqt = np.abs(librosa.cqt(x, sr=sr, hop_length=512, bins_per_octave=12,\n",
    "                                 n_bins=7*12, tuning=None))\n",
    "        \n",
    "        assert cqt.shape[0] == 7 * 12\n",
    "        assert np.ceil(len(x)/512) <= cqt.shape[1] <= np.ceil(len(x)/512)+1\n",
    "\n",
    "        f = librosa.feature.chroma_cqt(C=cqt, n_chroma=12, n_octaves=7)\n",
    "        feature_stats('chroma_cqt', f)\n",
    "        f = librosa.feature.chroma_cens(C=cqt, n_chroma=12, n_octaves=7)\n",
    "        feature_stats('chroma_cens', f)\n",
    "        f = librosa.feature.tonnetz(chroma=f)\n",
    "        feature_stats('tonnetz', f)\n",
    "\n",
    "        del cqt\n",
    "        stft = np.abs(librosa.stft(x, n_fft=2048, hop_length=512))\n",
    "        assert stft.shape[0] == 1 + 2048 // 2\n",
    "        assert np.ceil(len(x)/512) <= stft.shape[1] <= np.ceil(len(x)/512)+1\n",
    "        del x\n",
    "\n",
    "        f = librosa.feature.chroma_stft(S=stft**2, n_chroma=12)\n",
    "        feature_stats('chroma_stft', f)\n",
    "\n",
    "        f = librosa.feature.rms(S=stft)\n",
    "        feature_stats('rmse', f)\n",
    "\n",
    "        f = librosa.feature.spectral_centroid(S=stft)\n",
    "        feature_stats('spectral_centroid', f)\n",
    "        f = librosa.feature.spectral_bandwidth(S=stft)\n",
    "        feature_stats('spectral_bandwidth', f)\n",
    "        f = librosa.feature.spectral_contrast(S=stft, n_bands=6)\n",
    "        feature_stats('spectral_contrast', f)\n",
    "        f = librosa.feature.spectral_rolloff(S=stft)\n",
    "        feature_stats('spectral_rolloff', f)\n",
    "        f = librosa.feature.melspectrogram(S=stft)\n",
    "        feature_stats('mel_spec', f)\n",
    "        \n",
    "        \n",
    "        \n",
    "        mel = librosa.feature.melspectrogram(sr=sr, S=stft**2)\n",
    "        del stft\n",
    "        f = librosa.feature.mfcc(S=librosa.power_to_db(mel), n_mfcc=20)\n",
    "        feature_stats('mfcc', f)\n",
    "        print(f)\n",
    "\n",
    "    except Exception as e:\n",
    "        print('{}'.format( repr(e)))\n",
    "\n",
    "    return features"
   ]
  },
  {
   "cell_type": "code",
   "execution_count": 8,
   "metadata": {
    "colab": {
     "base_uri": "https://localhost:8080/"
    },
    "id": "wFPIlw1wGaSX",
    "outputId": "ca72d12e-439f-42d3-8560-fb6f81708942"
   },
   "outputs": [
    {
     "name": "stderr",
     "output_type": "stream",
     "text": [
      "/var/folders/gv/571nb6gs4h58lv0gw0__gy280000gn/T/ipykernel_66823/3037514455.py:46: UserWarning: PySoundFile failed. Trying audioread instead.\n",
      "  x, sr = librosa.load(\"song.wav\", sr=None, mono=True)  # kaiser_fast\n",
      "/var/folders/gv/571nb6gs4h58lv0gw0__gy280000gn/T/ipykernel_66823/3037514455.py:37: FutureWarning: Setting an item of incompatible dtype is deprecated and will raise an error in a future version of pandas. Value '[0.02900229]' has dtype incompatible with float32, please explicitly cast to a compatible dtype first.\n",
      "  features[name, 'mean'] = np.mean(values, axis=1)\n"
     ]
    },
    {
     "name": "stdout",
     "output_type": "stream",
     "text": [
      "[[-458.8114 -458.8114 -458.8114 ... -458.8114 -458.8114 -458.8114]\n",
      " [   0.        0.        0.     ...    0.        0.        0.    ]\n",
      " [   0.        0.        0.     ...    0.        0.        0.    ]\n",
      " ...\n",
      " [   0.        0.        0.     ...    0.        0.        0.    ]\n",
      " [   0.        0.        0.     ...    0.        0.        0.    ]\n",
      " [   0.        0.        0.     ...    0.        0.        0.    ]]\n"
     ]
    }
   ],
   "source": [
    "features = pd.DataFrame(compute_features())"
   ]
  },
  {
   "cell_type": "code",
   "execution_count": 9,
   "metadata": {},
   "outputs": [
    {
     "data": {
      "text/html": [
       "<div>\n",
       "<style scoped>\n",
       "    .dataframe tbody tr th:only-of-type {\n",
       "        vertical-align: middle;\n",
       "    }\n",
       "\n",
       "    .dataframe tbody tr th {\n",
       "        vertical-align: top;\n",
       "    }\n",
       "\n",
       "    .dataframe thead th {\n",
       "        text-align: right;\n",
       "    }\n",
       "</style>\n",
       "<table border=\"1\" class=\"dataframe\">\n",
       "  <thead>\n",
       "    <tr style=\"text-align: right;\">\n",
       "      <th></th>\n",
       "      <th></th>\n",
       "      <th></th>\n",
       "      <th>0</th>\n",
       "    </tr>\n",
       "    <tr>\n",
       "      <th>feature</th>\n",
       "      <th>statistics</th>\n",
       "      <th>number</th>\n",
       "      <th></th>\n",
       "    </tr>\n",
       "  </thead>\n",
       "  <tbody>\n",
       "    <tr>\n",
       "      <th rowspan=\"5\" valign=\"top\">chroma_cens</th>\n",
       "      <th rowspan=\"5\" valign=\"top\">kurtosis</th>\n",
       "      <th>01</th>\n",
       "      <td>-0.363607</td>\n",
       "    </tr>\n",
       "    <tr>\n",
       "      <th>02</th>\n",
       "      <td>0.010086</td>\n",
       "    </tr>\n",
       "    <tr>\n",
       "      <th>03</th>\n",
       "      <td>-1.228869</td>\n",
       "    </tr>\n",
       "    <tr>\n",
       "      <th>04</th>\n",
       "      <td>-1.166695</td>\n",
       "    </tr>\n",
       "    <tr>\n",
       "      <th>05</th>\n",
       "      <td>0.106115</td>\n",
       "    </tr>\n",
       "    <tr>\n",
       "      <th>...</th>\n",
       "      <th>...</th>\n",
       "      <th>...</th>\n",
       "      <td>...</td>\n",
       "    </tr>\n",
       "    <tr>\n",
       "      <th rowspan=\"5\" valign=\"top\">zcr</th>\n",
       "      <th>mean</th>\n",
       "      <th>01</th>\n",
       "      <td>0.029002</td>\n",
       "    </tr>\n",
       "    <tr>\n",
       "      <th>median</th>\n",
       "      <th>01</th>\n",
       "      <td>0.020508</td>\n",
       "    </tr>\n",
       "    <tr>\n",
       "      <th>min</th>\n",
       "      <th>01</th>\n",
       "      <td>0.000000</td>\n",
       "    </tr>\n",
       "    <tr>\n",
       "      <th>skew</th>\n",
       "      <th>01</th>\n",
       "      <td>2.981179</td>\n",
       "    </tr>\n",
       "    <tr>\n",
       "      <th>std</th>\n",
       "      <th>01</th>\n",
       "      <td>0.031351</td>\n",
       "    </tr>\n",
       "  </tbody>\n",
       "</table>\n",
       "<p>1414 rows × 1 columns</p>\n",
       "</div>"
      ],
      "text/plain": [
       "                                      0\n",
       "feature     statistics number          \n",
       "chroma_cens kurtosis   01     -0.363607\n",
       "                       02      0.010086\n",
       "                       03     -1.228869\n",
       "                       04     -1.166695\n",
       "                       05      0.106115\n",
       "...                                 ...\n",
       "zcr         mean       01      0.029002\n",
       "            median     01      0.020508\n",
       "            min        01      0.000000\n",
       "            skew       01      2.981179\n",
       "            std        01      0.031351\n",
       "\n",
       "[1414 rows x 1 columns]"
      ]
     },
     "execution_count": 9,
     "metadata": {},
     "output_type": "execute_result"
    }
   ],
   "source": [
    "features"
   ]
  },
  {
   "cell_type": "code",
   "execution_count": 10,
   "metadata": {
    "id": "TE48D_zQH4yX"
   },
   "outputs": [],
   "source": [
    "features = features.transpose()"
   ]
  },
  {
   "cell_type": "code",
   "execution_count": 15,
   "metadata": {},
   "outputs": [
    {
     "name": "stderr",
     "output_type": "stream",
     "text": [
      "/var/folders/gv/571nb6gs4h58lv0gw0__gy280000gn/T/ipykernel_66823/2325819141.py:1: UserWarning: PySoundFile failed. Trying audioread instead.\n",
      "  y, sr = librosa.load(\"song.wav\", sr=None, mono=True)\n"
     ]
    },
    {
     "data": {
      "text/plain": [
       "array([  -1.3319185,   16.287283 ,   30.686855 ,   43.56551  ,\n",
       "         64.82682  ,   35.568985 ,   30.434345 ,   37.31803  ,\n",
       "         35.73025  ,   49.659714 ,   66.754036 ,   70.4372   ,\n",
       "        170.858    ,   95.260994 ,  120.297874 ,   87.12362  ,\n",
       "        136.80063  ,   80.30049  ,  106.466225 ,  119.05624  ,\n",
       "        141.14311  ,  118.125656 ,  142.36842  ,  367.04483  ,\n",
       "        282.48654  ,  263.0219   ,  252.70813  ,   61.57984  ,\n",
       "        143.74493  ,  191.93234  ,  140.95418  ,  199.36226  ,\n",
       "        218.91483  ,  310.74738  ,  307.43518  ,  137.1783   ,\n",
       "        485.33075  ,  276.59622  ,  133.42252  ,  232.33134  ,\n",
       "        366.77057  ,   99.971634 ,   52.746273 ,   62.43225  ,\n",
       "        197.90817  ,   85.59965  ,   85.35392  ,  127.19046  ,\n",
       "        140.36029  ,  127.70816  ,   51.776028 ,   82.21685  ,\n",
       "         70.77113  ,   78.64007  ,   61.93477  ,  126.34068  ,\n",
       "         46.121506 ,   89.168015 ,   54.769707 ,   31.945919 ,\n",
       "         43.213867 ,   39.05262  ,   35.152157 ,   75.29737  ,\n",
       "         70.65157  ,   85.70613  ,   62.019646 ,   82.33135  ,\n",
       "         92.047295 ,   50.003815 ,   66.6709   ,   65.7433   ,\n",
       "         55.317852 ,   94.97189  ,  109.04008  ,  123.71162  ,\n",
       "         92.10136  ,   88.71807  ,   90.09667  ,   63.539864 ,\n",
       "         87.58816  ,   59.89776  ,   97.849075 ,   78.62113  ,\n",
       "         68.20486  ,  100.730705 ,  101.50472  ,   79.92561  ,\n",
       "         73.79969  ,   72.004845 ,   63.818314 ,   44.780704 ,\n",
       "         28.242558 ,   14.549351 ,   13.595751 ,   59.857666 ,\n",
       "         15.87051  ,    8.640727 ,    9.449177 ,   13.173761 ,\n",
       "         16.680258 ,   11.49992  ,   16.148924 ,   17.588228 ,\n",
       "         18.015024 ,   15.855232 ,   15.745905 ,   22.7485   ,\n",
       "         48.05125  ,   29.64045  ,   14.79343  ,   17.227888 ,\n",
       "         11.438205 ,   10.783507 ,   11.000671 ,    8.391935 ,\n",
       "          8.405447 ,    6.93486  ,    7.6394567,   56.208603 ,\n",
       "        957.2865   ,  896.1608   ,  998.44574  ,  913.5935   ,\n",
       "        980.7316   ,  935.8085   , 1004.8206   ,  917.56384  ],\n",
       "      dtype=float32)"
      ]
     },
     "execution_count": 15,
     "metadata": {},
     "output_type": "execute_result"
    }
   ],
   "source": [
    "y, sr = librosa.load(\"song.wav\", sr=None, mono=True)\n",
    "f = librosa.feature.melspectrogram(y=y,sr=sr)\n",
    "stats.kurtosis(f, axis=1)"
   ]
  },
  {
   "cell_type": "code",
   "execution_count": 17,
   "metadata": {},
   "outputs": [
    {
     "data": {
      "text/html": [
       "<div>\n",
       "<style scoped>\n",
       "    .dataframe tbody tr th:only-of-type {\n",
       "        vertical-align: middle;\n",
       "    }\n",
       "\n",
       "    .dataframe tbody tr th {\n",
       "        vertical-align: top;\n",
       "    }\n",
       "\n",
       "    .dataframe thead tr th {\n",
       "        text-align: left;\n",
       "    }\n",
       "</style>\n",
       "<table border=\"1\" class=\"dataframe\">\n",
       "  <thead>\n",
       "    <tr>\n",
       "      <th>feature</th>\n",
       "      <th colspan=\"10\" halign=\"left\">chroma_cens</th>\n",
       "      <th>...</th>\n",
       "      <th colspan=\"3\" halign=\"left\">tonnetz</th>\n",
       "      <th colspan=\"7\" halign=\"left\">zcr</th>\n",
       "    </tr>\n",
       "    <tr>\n",
       "      <th>statistics</th>\n",
       "      <th colspan=\"10\" halign=\"left\">kurtosis</th>\n",
       "      <th>...</th>\n",
       "      <th colspan=\"3\" halign=\"left\">std</th>\n",
       "      <th>kurtosis</th>\n",
       "      <th>max</th>\n",
       "      <th>mean</th>\n",
       "      <th>median</th>\n",
       "      <th>min</th>\n",
       "      <th>skew</th>\n",
       "      <th>std</th>\n",
       "    </tr>\n",
       "    <tr>\n",
       "      <th>number</th>\n",
       "      <th>01</th>\n",
       "      <th>02</th>\n",
       "      <th>03</th>\n",
       "      <th>04</th>\n",
       "      <th>05</th>\n",
       "      <th>06</th>\n",
       "      <th>07</th>\n",
       "      <th>08</th>\n",
       "      <th>09</th>\n",
       "      <th>10</th>\n",
       "      <th>...</th>\n",
       "      <th>04</th>\n",
       "      <th>05</th>\n",
       "      <th>06</th>\n",
       "      <th>01</th>\n",
       "      <th>01</th>\n",
       "      <th>01</th>\n",
       "      <th>01</th>\n",
       "      <th>01</th>\n",
       "      <th>01</th>\n",
       "      <th>01</th>\n",
       "    </tr>\n",
       "  </thead>\n",
       "  <tbody>\n",
       "    <tr>\n",
       "      <th>0</th>\n",
       "      <td>-0.363607</td>\n",
       "      <td>0.010086</td>\n",
       "      <td>-1.228869</td>\n",
       "      <td>-1.166695</td>\n",
       "      <td>0.106115</td>\n",
       "      <td>1.132824</td>\n",
       "      <td>2.960157</td>\n",
       "      <td>-0.359578</td>\n",
       "      <td>0.287732</td>\n",
       "      <td>4.898821</td>\n",
       "      <td>...</td>\n",
       "      <td>0.244532</td>\n",
       "      <td>0.086667</td>\n",
       "      <td>0.072306</td>\n",
       "      <td>16.283276</td>\n",
       "      <td>0.375</td>\n",
       "      <td>0.029002</td>\n",
       "      <td>0.020508</td>\n",
       "      <td>0.0</td>\n",
       "      <td>2.981179</td>\n",
       "      <td>0.031351</td>\n",
       "    </tr>\n",
       "  </tbody>\n",
       "</table>\n",
       "<p>1 rows × 1414 columns</p>\n",
       "</div>"
      ],
      "text/plain": [
       "feature    chroma_cens                                                    \\\n",
       "statistics    kurtosis                                                     \n",
       "number              01        02        03        04        05        06   \n",
       "0            -0.363607  0.010086 -1.228869 -1.166695  0.106115  1.132824   \n",
       "\n",
       "feature                                             ...   tonnetz            \\\n",
       "statistics                                          ...       std             \n",
       "number            07        08        09        10  ...        04        05   \n",
       "0           2.960157 -0.359578  0.287732  4.898821  ...  0.244532  0.086667   \n",
       "\n",
       "feature                     zcr                                            \\\n",
       "statistics             kurtosis    max      mean    median  min      skew   \n",
       "number            06         01     01        01        01   01        01   \n",
       "0           0.072306  16.283276  0.375  0.029002  0.020508  0.0  2.981179   \n",
       "\n",
       "feature               \n",
       "statistics       std  \n",
       "number            01  \n",
       "0           0.031351  \n",
       "\n",
       "[1 rows x 1414 columns]"
      ]
     },
     "execution_count": 17,
     "metadata": {},
     "output_type": "execute_result"
    }
   ],
   "source": [
    "features"
   ]
  },
  {
   "cell_type": "code",
   "execution_count": 22,
   "metadata": {
    "colab": {
     "base_uri": "https://localhost:8080/",
     "height": 191
    },
    "id": "RnYx-l4UlB6R",
    "outputId": "bb79c25f-717c-4b6c-f123-78e81536af71"
   },
   "outputs": [],
   "source": [
    "features.to_csv(\"bank_acc.csv\")\n"
   ]
  }
 ],
 "metadata": {
  "colab": {
   "provenance": []
  },
  "kernelspec": {
   "display_name": "Python [conda env:base] *",
   "language": "python",
   "name": "conda-base-py"
  },
  "language_info": {
   "codemirror_mode": {
    "name": "ipython",
    "version": 3
   },
   "file_extension": ".py",
   "mimetype": "text/x-python",
   "name": "python",
   "nbconvert_exporter": "python",
   "pygments_lexer": "ipython3",
   "version": "3.12.7"
  }
 },
 "nbformat": 4,
 "nbformat_minor": 4
}
