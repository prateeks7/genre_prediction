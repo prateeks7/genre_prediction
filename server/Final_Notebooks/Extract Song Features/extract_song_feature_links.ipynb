{
 "cells": [
  {
   "cell_type": "code",
   "execution_count": 52,
   "metadata": {
    "colab": {
     "base_uri": "https://localhost:8080/"
    },
    "id": "2GJr7FxUcQgl",
    "outputId": "fbf7794a-34a4-402d-e2f7-8971720fd802"
   },
   "outputs": [
    {
     "name": "stdout",
     "output_type": "stream",
     "text": [
      "Requirement already satisfied: yt_dlp in /opt/anaconda3/lib/python3.12/site-packages (2025.3.31)\n",
      "zsh:1: unmatched \"\n"
     ]
    }
   ],
   "source": [
    "!pip install --upgrade yt_dlp\n",
    "!pip install pytubefix\""
   ]
  },
  {
   "cell_type": "code",
   "execution_count": 53,
   "metadata": {
    "colab": {
     "base_uri": "https://localhost:8080/"
    },
    "id": "2aWj91_M_HaP",
    "outputId": "0f0c16d5-754b-43fb-9007-dfa5cb43600c"
   },
   "outputs": [
    {
     "name": "stdout",
     "output_type": "stream",
     "text": [
      "Enter the destination (leave blank for current directory)\n",
      "21 Savage - Bank Account (Official Audio) has been successfully downloaded.\n"
     ]
    }
   ],
   "source": [
    "from pytubefix import YouTube\n",
    "import os\n",
    "\n",
    "yt = YouTube(\"https://www.youtube.com/watch?v=sV2t3tW_JTQ\")\n",
    "\n",
    "video = yt.streams.filter(only_audio=True).first()\n",
    "\n",
    "print(\"Enter the destination (leave blank for current directory)\")\n",
    "destination = \"\"\n",
    "\n",
    "out_file = video.download(output_path=destination)\n",
    "\n",
    "base, ext = os.path.splitext(out_file)\n",
    "new_file = \"song\" + '.wav'\n",
    "os.rename(out_file, new_file)\n",
    "\n",
    "print(yt.title + \" has been successfully downloaded.\")"
   ]
  },
  {
   "cell_type": "code",
   "execution_count": 54,
   "metadata": {
    "id": "FhHvnKtcCFzC"
   },
   "outputs": [],
   "source": [
    "import os\n",
    "import multiprocessing\n",
    "import warnings\n",
    "import numpy as np\n",
    "from scipy import stats\n",
    "import pandas as pd\n",
    "import librosa\n",
    "from tqdm import tqdm\n",
    "def columns():\n",
    "    feature_sizes = dict(chroma_stft=12, chroma_cqt=12, chroma_cens=12,\n",
    "                         tonnetz=6, mfcc=20, rmse=1, zcr=1,\n",
    "                         spectral_centroid=1, spectral_bandwidth=1,\n",
    "                         spectral_contrast=7, spectral_rolloff=1,mel_spec=128)\n",
    "    moments = ('mean', 'std', 'skew', 'kurtosis', 'median', 'min', 'max')\n",
    "\n",
    "    columns = []\n",
    "    for name, size in feature_sizes.items():\n",
    "        for moment in moments:\n",
    "            it = ((name, moment, '{:02d}'.format(i+1)) for i in range(size))\n",
    "            columns.extend(it)\n",
    "\n",
    "    names = ('feature', 'statistics', 'number')\n",
    "    columns = pd.MultiIndex.from_tuples(columns, names=names)\n",
    "\n",
    "    # More efficient to slice if indexes are sorted.\n",
    "    return columns.sort_values()\n",
    "\n",
    "\n",
    "def compute_features():\n",
    "\n",
    "    features = pd.Series(index=columns(), dtype=np.float32)\n",
    "\n",
    "    # Catch warnings as exceptions (audioread leaks file descriptors).\n",
    "    warnings.filterwarnings('error', module='librosa')\n",
    "\n",
    "    def feature_stats(name, values):\n",
    "        features[name, 'mean'] = np.mean(values, axis=1)\n",
    "        features[name, 'std'] = np.std(values, axis=1)\n",
    "        features[name, 'skew'] = stats.skew(values, axis=1)\n",
    "        features[name, 'kurtosis'] = stats.kurtosis(values, axis=1)\n",
    "        features[name, 'median'] = np.median(values, axis=1)\n",
    "        features[name, 'min'] = np.min(values, axis=1)\n",
    "        features[name, 'max'] = np.max(values, axis=1)\n",
    "\n",
    "    try:\n",
    "        x, sr = librosa.load(\"song.wav\", sr=None, mono=True)  # kaiser_fast\n",
    "\n",
    "        f = librosa.feature.zero_crossing_rate(x, frame_length=2048, hop_length=512)\n",
    "        feature_stats('zcr', f)\n",
    "\n",
    "        cqt = np.abs(librosa.cqt(x, sr=sr, hop_length=512, bins_per_octave=12,\n",
    "                                 n_bins=7*12, tuning=None))\n",
    "        \n",
    "        assert cqt.shape[0] == 7 * 12\n",
    "        assert np.ceil(len(x)/512) <= cqt.shape[1] <= np.ceil(len(x)/512)+1\n",
    "\n",
    "        f = librosa.feature.chroma_cqt(C=cqt, n_chroma=12, n_octaves=7)\n",
    "        feature_stats('chroma_cqt', f)\n",
    "        f = librosa.feature.chroma_cens(C=cqt, n_chroma=12, n_octaves=7)\n",
    "        feature_stats('chroma_cens', f)\n",
    "        f = librosa.feature.tonnetz(chroma=f)\n",
    "        feature_stats('tonnetz', f)\n",
    "\n",
    "        del cqt\n",
    "        stft = np.abs(librosa.stft(x, n_fft=2048, hop_length=512))\n",
    "        assert stft.shape[0] == 1 + 2048 // 2\n",
    "        assert np.ceil(len(x)/512) <= stft.shape[1] <= np.ceil(len(x)/512)+1\n",
    "        del x\n",
    "\n",
    "        f = librosa.feature.chroma_stft(S=stft**2, n_chroma=12)\n",
    "        feature_stats('chroma_stft', f)\n",
    "\n",
    "        f = librosa.feature.rms(S=stft)\n",
    "        feature_stats('rmse', f)\n",
    "\n",
    "        f = librosa.feature.spectral_centroid(S=stft)\n",
    "        feature_stats('spectral_centroid', f)\n",
    "        f = librosa.feature.spectral_bandwidth(S=stft)\n",
    "        feature_stats('spectral_bandwidth', f)\n",
    "        f = librosa.feature.spectral_contrast(S=stft, n_bands=6)\n",
    "        feature_stats('spectral_contrast', f)\n",
    "        f = librosa.feature.spectral_rolloff(S=stft)\n",
    "        feature_stats('spectral_rolloff', f)\n",
    "        f = librosa.feature.melspectrogram(S=stft)\n",
    "        feature_stats('mel_spec', f)\n",
    "        \n",
    "        \n",
    "        \n",
    "        mel = librosa.feature.melspectrogram(sr=sr, S=stft**2)\n",
    "        del stft\n",
    "        f = librosa.feature.mfcc(S=librosa.power_to_db(mel), n_mfcc=20)\n",
    "        feature_stats('mfcc', f)\n",
    "        print(f)\n",
    "\n",
    "    except Exception as e:\n",
    "        print('{}'.format( repr(e)))\n",
    "    os.remove(\"./song.wav\")\n",
    "    return features"
   ]
  },
  {
   "cell_type": "code",
   "execution_count": 58,
   "metadata": {
    "colab": {
     "base_uri": "https://localhost:8080/"
    },
    "id": "wFPIlw1wGaSX",
    "outputId": "ca72d12e-439f-42d3-8560-fb6f81708942",
    "scrolled": true
   },
   "outputs": [
    {
     "name": "stderr",
     "output_type": "stream",
     "text": [
      "/var/folders/gv/571nb6gs4h58lv0gw0__gy280000gn/T/ipykernel_72657/1526570064.py:46: UserWarning: PySoundFile failed. Trying audioread instead.\n",
      "  x, sr = librosa.load(\"song.wav\", sr=None, mono=True)  # kaiser_fast\n",
      "/var/folders/gv/571nb6gs4h58lv0gw0__gy280000gn/T/ipykernel_72657/1526570064.py:37: FutureWarning: Setting an item of incompatible dtype is deprecated and will raise an error in a future version of pandas. Value '[0.02900229]' has dtype incompatible with float32, please explicitly cast to a compatible dtype first.\n",
      "  features[name, 'mean'] = np.mean(values, axis=1)\n"
     ]
    },
    {
     "name": "stdout",
     "output_type": "stream",
     "text": [
      "[[-458.8114 -458.8114 -458.8114 ... -458.8114 -458.8114 -458.8114]\n",
      " [   0.        0.        0.     ...    0.        0.        0.    ]\n",
      " [   0.        0.        0.     ...    0.        0.        0.    ]\n",
      " ...\n",
      " [   0.        0.        0.     ...    0.        0.        0.    ]\n",
      " [   0.        0.        0.     ...    0.        0.        0.    ]\n",
      " [   0.        0.        0.     ...    0.        0.        0.    ]]\n"
     ]
    }
   ],
   "source": [
    "features = pd.DataFrame(compute_features())"
   ]
  },
  {
   "cell_type": "code",
   "execution_count": 60,
   "metadata": {
    "id": "TE48D_zQH4yX"
   },
   "outputs": [],
   "source": [
    "features = features.transpose()"
   ]
  },
  {
   "cell_type": "code",
   "execution_count": 62,
   "metadata": {},
   "outputs": [],
   "source": [
    "mel_spec = features['mel_spec']"
   ]
  },
  {
   "cell_type": "code",
   "execution_count": 64,
   "metadata": {},
   "outputs": [],
   "source": [
    "mel_spec.columns = pd.MultiIndex.from_tuples([\n",
    "    ('mel_spec',) + col if isinstance(col, tuple) else ('mel_spec', col)\n",
    "    for col in mel_spec.columns\n",
    "])"
   ]
  },
  {
   "cell_type": "code",
   "execution_count": 66,
   "metadata": {},
   "outputs": [
    {
     "data": {
      "text/html": [
       "<div>\n",
       "<style scoped>\n",
       "    .dataframe tbody tr th:only-of-type {\n",
       "        vertical-align: middle;\n",
       "    }\n",
       "\n",
       "    .dataframe tbody tr th {\n",
       "        vertical-align: top;\n",
       "    }\n",
       "\n",
       "    .dataframe thead tr th {\n",
       "        text-align: left;\n",
       "    }\n",
       "</style>\n",
       "<table border=\"1\" class=\"dataframe\">\n",
       "  <thead>\n",
       "    <tr>\n",
       "      <th></th>\n",
       "      <th colspan=\"21\" halign=\"left\">mel_spec</th>\n",
       "    </tr>\n",
       "    <tr>\n",
       "      <th></th>\n",
       "      <th colspan=\"10\" halign=\"left\">kurtosis</th>\n",
       "      <th>...</th>\n",
       "      <th colspan=\"10\" halign=\"left\">std</th>\n",
       "    </tr>\n",
       "    <tr>\n",
       "      <th></th>\n",
       "      <th>01</th>\n",
       "      <th>02</th>\n",
       "      <th>03</th>\n",
       "      <th>04</th>\n",
       "      <th>05</th>\n",
       "      <th>06</th>\n",
       "      <th>07</th>\n",
       "      <th>08</th>\n",
       "      <th>09</th>\n",
       "      <th>10</th>\n",
       "      <th>...</th>\n",
       "      <th>90</th>\n",
       "      <th>91</th>\n",
       "      <th>92</th>\n",
       "      <th>93</th>\n",
       "      <th>94</th>\n",
       "      <th>95</th>\n",
       "      <th>96</th>\n",
       "      <th>97</th>\n",
       "      <th>98</th>\n",
       "      <th>99</th>\n",
       "    </tr>\n",
       "  </thead>\n",
       "  <tbody>\n",
       "    <tr>\n",
       "      <th>0</th>\n",
       "      <td>-0.976424</td>\n",
       "      <td>5.066773</td>\n",
       "      <td>17.145786</td>\n",
       "      <td>9.009282</td>\n",
       "      <td>8.775974</td>\n",
       "      <td>12.18237</td>\n",
       "      <td>11.746777</td>\n",
       "      <td>7.874873</td>\n",
       "      <td>11.573224</td>\n",
       "      <td>10.567286</td>\n",
       "      <td>...</td>\n",
       "      <td>0.00052</td>\n",
       "      <td>0.000502</td>\n",
       "      <td>0.000493</td>\n",
       "      <td>0.00048</td>\n",
       "      <td>0.000468</td>\n",
       "      <td>0.000465</td>\n",
       "      <td>0.000448</td>\n",
       "      <td>0.000448</td>\n",
       "      <td>0.000439</td>\n",
       "      <td>0.000441</td>\n",
       "    </tr>\n",
       "  </tbody>\n",
       "</table>\n",
       "<p>1 rows × 896 columns</p>\n",
       "</div>"
      ],
      "text/plain": [
       "   mel_spec                                                                \\\n",
       "   kurtosis                                                                 \n",
       "         01        02         03        04        05        06         07   \n",
       "0 -0.976424  5.066773  17.145786  9.009282  8.775974  12.18237  11.746777   \n",
       "\n",
       "                                   ...                                        \\\n",
       "                                   ...      std                                \n",
       "         08         09         10  ...       90        91        92       93   \n",
       "0  7.874873  11.573224  10.567286  ...  0.00052  0.000502  0.000493  0.00048   \n",
       "\n",
       "                                                               \n",
       "                                                               \n",
       "         94        95        96        97        98        99  \n",
       "0  0.000468  0.000465  0.000448  0.000448  0.000439  0.000441  \n",
       "\n",
       "[1 rows x 896 columns]"
      ]
     },
     "execution_count": 66,
     "metadata": {},
     "output_type": "execute_result"
    }
   ],
   "source": [
    "mel_spec"
   ]
  },
  {
   "cell_type": "code",
   "execution_count": 68,
   "metadata": {},
   "outputs": [],
   "source": [
    "features = features.drop('mel_spec',axis=1).merge(mel_spec,left_index=True,right_index=True)"
   ]
  },
  {
   "cell_type": "code",
   "execution_count": 81,
   "metadata": {},
   "outputs": [
    {
     "data": {
      "text/html": [
       "<div>\n",
       "<style scoped>\n",
       "    .dataframe tbody tr th:only-of-type {\n",
       "        vertical-align: middle;\n",
       "    }\n",
       "\n",
       "    .dataframe tbody tr th {\n",
       "        vertical-align: top;\n",
       "    }\n",
       "\n",
       "    .dataframe thead tr th {\n",
       "        text-align: left;\n",
       "    }\n",
       "</style>\n",
       "<table border=\"1\" class=\"dataframe\">\n",
       "  <thead>\n",
       "    <tr>\n",
       "      <th></th>\n",
       "      <th colspan=\"10\" halign=\"left\">kurtosis</th>\n",
       "      <th>...</th>\n",
       "      <th colspan=\"10\" halign=\"left\">std</th>\n",
       "    </tr>\n",
       "    <tr>\n",
       "      <th></th>\n",
       "      <th>01</th>\n",
       "      <th>02</th>\n",
       "      <th>03</th>\n",
       "      <th>04</th>\n",
       "      <th>05</th>\n",
       "      <th>06</th>\n",
       "      <th>07</th>\n",
       "      <th>08</th>\n",
       "      <th>09</th>\n",
       "      <th>10</th>\n",
       "      <th>...</th>\n",
       "      <th>90</th>\n",
       "      <th>91</th>\n",
       "      <th>92</th>\n",
       "      <th>93</th>\n",
       "      <th>94</th>\n",
       "      <th>95</th>\n",
       "      <th>96</th>\n",
       "      <th>97</th>\n",
       "      <th>98</th>\n",
       "      <th>99</th>\n",
       "    </tr>\n",
       "  </thead>\n",
       "  <tbody>\n",
       "    <tr>\n",
       "      <th>0</th>\n",
       "      <td>-0.976424</td>\n",
       "      <td>5.066773</td>\n",
       "      <td>17.145786</td>\n",
       "      <td>9.009282</td>\n",
       "      <td>8.775974</td>\n",
       "      <td>12.18237</td>\n",
       "      <td>11.746777</td>\n",
       "      <td>7.874873</td>\n",
       "      <td>11.573224</td>\n",
       "      <td>10.567286</td>\n",
       "      <td>...</td>\n",
       "      <td>0.00052</td>\n",
       "      <td>0.000502</td>\n",
       "      <td>0.000493</td>\n",
       "      <td>0.00048</td>\n",
       "      <td>0.000468</td>\n",
       "      <td>0.000465</td>\n",
       "      <td>0.000448</td>\n",
       "      <td>0.000448</td>\n",
       "      <td>0.000439</td>\n",
       "      <td>0.000441</td>\n",
       "    </tr>\n",
       "  </tbody>\n",
       "</table>\n",
       "<p>1 rows × 896 columns</p>\n",
       "</div>"
      ],
      "text/plain": [
       "   kurtosis                                                                \\\n",
       "         01        02         03        04        05        06         07   \n",
       "0 -0.976424  5.066773  17.145786  9.009282  8.775974  12.18237  11.746777   \n",
       "\n",
       "                                   ...      std                               \\\n",
       "         08         09         10  ...       90        91        92       93   \n",
       "0  7.874873  11.573224  10.567286  ...  0.00052  0.000502  0.000493  0.00048   \n",
       "\n",
       "                                                               \n",
       "         94        95        96        97        98        99  \n",
       "0  0.000468  0.000465  0.000448  0.000448  0.000439  0.000441  \n",
       "\n",
       "[1 rows x 896 columns]"
      ]
     },
     "execution_count": 81,
     "metadata": {},
     "output_type": "execute_result"
    }
   ],
   "source": [
    "features['mel_spec']"
   ]
  },
  {
   "cell_type": "code",
   "execution_count": 84,
   "metadata": {
    "colab": {
     "base_uri": "https://localhost:8080/",
     "height": 191
    },
    "id": "RnYx-l4UlB6R",
    "outputId": "bb79c25f-717c-4b6c-f123-78e81536af71"
   },
   "outputs": [],
   "source": [
    "features.to_csv(\"song.csv\")\n"
   ]
  },
  {
   "cell_type": "code",
   "execution_count": 74,
   "metadata": {
    "id": "UMtf1iOee0XB"
   },
   "outputs": [
    {
     "ename": "FileNotFoundError",
     "evalue": "[Errno 2] No such file or directory: 'final_optimized_classification_model.pkl'",
     "output_type": "error",
     "traceback": [
      "\u001b[0;31m---------------------------------------------------------------------------\u001b[0m",
      "\u001b[0;31mFileNotFoundError\u001b[0m                         Traceback (most recent call last)",
      "Cell \u001b[0;32mIn[74], line 2\u001b[0m\n\u001b[1;32m      1\u001b[0m \u001b[38;5;28;01mimport\u001b[39;00m \u001b[38;5;21;01mpickle\u001b[39;00m\n\u001b[0;32m----> 2\u001b[0m \u001b[38;5;28;01mwith\u001b[39;00m \u001b[38;5;28mopen\u001b[39m(\u001b[38;5;124m'\u001b[39m\u001b[38;5;124mfinal_optimized_classification_model.pkl\u001b[39m\u001b[38;5;124m'\u001b[39m, \u001b[38;5;124m'\u001b[39m\u001b[38;5;124mrb\u001b[39m\u001b[38;5;124m'\u001b[39m) \u001b[38;5;28;01mas\u001b[39;00m f:\n\u001b[1;32m      3\u001b[0m     model \u001b[38;5;241m=\u001b[39m pickle\u001b[38;5;241m.\u001b[39mload(f)\n",
      "File \u001b[0;32m/opt/anaconda3/lib/python3.12/site-packages/IPython/core/interactiveshell.py:324\u001b[0m, in \u001b[0;36m_modified_open\u001b[0;34m(file, *args, **kwargs)\u001b[0m\n\u001b[1;32m    317\u001b[0m \u001b[38;5;28;01mif\u001b[39;00m file \u001b[38;5;129;01min\u001b[39;00m {\u001b[38;5;241m0\u001b[39m, \u001b[38;5;241m1\u001b[39m, \u001b[38;5;241m2\u001b[39m}:\n\u001b[1;32m    318\u001b[0m     \u001b[38;5;28;01mraise\u001b[39;00m \u001b[38;5;167;01mValueError\u001b[39;00m(\n\u001b[1;32m    319\u001b[0m         \u001b[38;5;124mf\u001b[39m\u001b[38;5;124m\"\u001b[39m\u001b[38;5;124mIPython won\u001b[39m\u001b[38;5;124m'\u001b[39m\u001b[38;5;124mt let you open fd=\u001b[39m\u001b[38;5;132;01m{\u001b[39;00mfile\u001b[38;5;132;01m}\u001b[39;00m\u001b[38;5;124m by default \u001b[39m\u001b[38;5;124m\"\u001b[39m\n\u001b[1;32m    320\u001b[0m         \u001b[38;5;124m\"\u001b[39m\u001b[38;5;124mas it is likely to crash IPython. If you know what you are doing, \u001b[39m\u001b[38;5;124m\"\u001b[39m\n\u001b[1;32m    321\u001b[0m         \u001b[38;5;124m\"\u001b[39m\u001b[38;5;124myou can use builtins\u001b[39m\u001b[38;5;124m'\u001b[39m\u001b[38;5;124m open.\u001b[39m\u001b[38;5;124m\"\u001b[39m\n\u001b[1;32m    322\u001b[0m     )\n\u001b[0;32m--> 324\u001b[0m \u001b[38;5;28;01mreturn\u001b[39;00m io_open(file, \u001b[38;5;241m*\u001b[39margs, \u001b[38;5;241m*\u001b[39m\u001b[38;5;241m*\u001b[39mkwargs)\n",
      "\u001b[0;31mFileNotFoundError\u001b[0m: [Errno 2] No such file or directory: 'final_optimized_classification_model.pkl'"
     ]
    }
   ],
   "source": [
    "import pickle\n",
    "with open('final_optimized_classification_model.pkl', 'rb') as f:\n",
    "    model = pickle.load(f)"
   ]
  },
  {
   "cell_type": "code",
   "execution_count": 372,
   "metadata": {},
   "outputs": [
    {
     "data": {
      "text/plain": [
       "array([15])"
      ]
     },
     "execution_count": 372,
     "metadata": {},
     "output_type": "execute_result"
    }
   ],
   "source": [
    "model.predict_proba(features)"
   ]
  }
 ],
 "metadata": {
  "colab": {
   "provenance": []
  },
  "kernelspec": {
   "display_name": "Python [conda env:base] *",
   "language": "python",
   "name": "conda-base-py"
  },
  "language_info": {
   "codemirror_mode": {
    "name": "ipython",
    "version": 3
   },
   "file_extension": ".py",
   "mimetype": "text/x-python",
   "name": "python",
   "nbconvert_exporter": "python",
   "pygments_lexer": "ipython3",
   "version": "3.12.7"
  }
 },
 "nbformat": 4,
 "nbformat_minor": 4
}
