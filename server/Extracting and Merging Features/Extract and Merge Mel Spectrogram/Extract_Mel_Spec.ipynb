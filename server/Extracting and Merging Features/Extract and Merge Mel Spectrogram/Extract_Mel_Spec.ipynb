{
 "cells": [
  {
   "cell_type": "code",
   "execution_count": 42,
   "id": "d19bfef3-a019-4163-9cf5-c24a5557255b",
   "metadata": {},
   "outputs": [],
   "source": [
    "import pandas as pd\n",
    "import os\n",
    "import ast"
   ]
  },
  {
   "cell_type": "code",
   "execution_count": 44,
   "id": "6ae91a2f-f707-4b80-8c71-0ed1f667e6ee",
   "metadata": {},
   "outputs": [],
   "source": [
    "import numpy as np\n",
    "from multiprocessing import Pool"
   ]
  },
  {
   "cell_type": "code",
   "execution_count": 46,
   "id": "14ba6270-baab-48a3-b22f-636d32f68104",
   "metadata": {},
   "outputs": [],
   "source": [
    "import warnings"
   ]
  },
  {
   "cell_type": "code",
   "execution_count": 48,
   "id": "048453d0-0be6-4a07-842c-fbe04bcfe732",
   "metadata": {},
   "outputs": [],
   "source": [
    "from scipy import stats"
   ]
  },
  {
   "cell_type": "code",
   "execution_count": 50,
   "id": "8ccfa271-b039-415b-916e-516bb5b2f4d0",
   "metadata": {},
   "outputs": [],
   "source": [
    "from tqdm import tqdm\n",
    "import asyncio"
   ]
  },
  {
   "cell_type": "code",
   "execution_count": 52,
   "id": "0fde2189-821b-4df8-b3f1-ff7b7e2ab0da",
   "metadata": {},
   "outputs": [],
   "source": [
    "import librosa"
   ]
  },
  {
   "cell_type": "code",
   "execution_count": 54,
   "id": "bec24f85-c897-4d20-b681-6819e9134201",
   "metadata": {},
   "outputs": [],
   "source": [
    "def load(filepath):\n",
    "\n",
    "    filename = os.path.basename(filepath)\n",
    "\n",
    "    if 'features' in filename:\n",
    "        return pd.read_csv(filepath, index_col=0, header=[0, 1, 2])\n",
    "\n",
    "    if 'echonest' in filename:\n",
    "        return pd.read_csv(filepath, index_col=0, header=[0, 1, 2])\n",
    "\n",
    "    if 'genres' in filename:\n",
    "        return pd.read_csv(filepath, index_col=0)\n",
    "\n",
    "    if 'tracks' in filename:\n",
    "        tracks = pd.read_csv(filepath, index_col=0, header=[0, 1])\n",
    "\n",
    "        COLUMNS = [('track', 'tags'), ('album', 'tags'), ('artist', 'tags'),\n",
    "                   ('track', 'genres'), ('track', 'genres_all')]\n",
    "        for column in COLUMNS:\n",
    "            tracks[column] = tracks[column].map(ast.literal_eval)\n",
    "\n",
    "        COLUMNS = [('track', 'date_created'), ('track', 'date_recorded'),\n",
    "                   ('album', 'date_created'), ('album', 'date_released'),\n",
    "                   ('artist', 'date_created'), ('artist', 'active_year_begin'),\n",
    "                   ('artist', 'active_year_end')]\n",
    "        for column in COLUMNS:\n",
    "            tracks[column] = pd.to_datetime(tracks[column])\n",
    "\n",
    "        SUBSETS = ('small', 'medium', 'large')\n",
    "        try:\n",
    "            tracks['set', 'subset'] = tracks['set', 'subset'].astype(\n",
    "                    'category', categories=SUBSETS, ordered=True)\n",
    "        except (ValueError, TypeError):\n",
    "            # the categories and ordered arguments were removed in pandas 0.25\n",
    "            tracks['set', 'subset'] = tracks['set', 'subset'].astype(\n",
    "                     pd.CategoricalDtype(categories=SUBSETS, ordered=True))\n",
    "\n",
    "        COLUMNS = [('track', 'genre_top'), ('track', 'license'),\n",
    "                   ('album', 'type'), ('album', 'information'),\n",
    "                   ('artist', 'bio')]\n",
    "        for column in COLUMNS:\n",
    "            tracks[column] = tracks[column].astype('category')\n",
    "\n",
    "        return tracks\n"
   ]
  },
  {
   "cell_type": "code",
   "execution_count": 56,
   "id": "89caa3fd-d694-4ffa-8911-c227a9baed03",
   "metadata": {},
   "outputs": [],
   "source": [
    "tracks = load(\"../../Original Data/fma_metadata/tracks.csv\")"
   ]
  },
  {
   "cell_type": "code",
   "execution_count": 57,
   "id": "e313b457-ab91-4214-9579-9741c9bde01a",
   "metadata": {},
   "outputs": [],
   "source": [
    "def get_audio_path(set_name, track_id):\n",
    "    \"\"\"\n",
    "    Return the path to the mp3 given the directory where the audio is stored\n",
    "    and the track ID.\n",
    "\n",
    "    Examples\n",
    "    --------\n",
    "    >>> import utils\n",
    "    >>> AUDIO_DIR = os.environ.get('AUDIO_DIR')\n",
    "    >>> utils.get_audio_path(AUDIO_DIR, 2)\n",
    "    '../data/fma_small/000/000002.mp3'\n",
    "\n",
    "    \"\"\"\n",
    "    tid_str = '{:06d}'.format(track_id)\n",
    "    print(os.path.join(\"fma_full\", tid_str[:3], tid_str + '.mp3'))\n",
    "    return os.path.join(\"fma_full\", tid_str[:3], tid_str + '.mp3')"
   ]
  },
  {
   "cell_type": "code",
   "execution_count": 58,
   "id": "4fb38c2e-13db-4f07-98eb-b95d441a83b4",
   "metadata": {},
   "outputs": [],
   "source": [
    "def columns():\n",
    "    feature_sizes = dict(mel_spec=128)\n",
    "    moments = ('mean', 'std', 'skew', 'kurtosis', 'median', 'min', 'max')\n",
    "\n",
    "    columns = []\n",
    "    for name, size in feature_sizes.items():\n",
    "        for moment in moments:\n",
    "            it = ((name, moment, '{:02d}'.format(i+1)) for i in range(size))\n",
    "            columns.extend(it)\n",
    "\n",
    "    names = ('feature', 'statistics', 'number')\n",
    "    columns = pd.MultiIndex.from_tuples(columns, names=names)\n",
    "\n",
    "    # More efficient to slice if indexes are sorted.\n",
    "    return columns.sort_values()"
   ]
  },
  {
   "cell_type": "code",
   "execution_count": 59,
   "id": "f6f9f1ee-a419-444a-ae8d-604f2bc5ab03",
   "metadata": {},
   "outputs": [],
   "source": [
    "async def compute_features(tid,set_name,zipe):\n",
    "\n",
    "    features = pd.Series(index=columns(), dtype=np.float32, name=tid)\n",
    "\n",
    "    # Catch warnings as exceptions (audioread leaks file descriptors).\n",
    "    warnings.filterwarnings('error', module='librosa')\n",
    "    \n",
    "    def feature_stats(name, values):\n",
    "        features[name, 'mean'] = np.mean(values, axis=1)\n",
    "        features[name, 'std'] = np.std(values, axis=1)\n",
    "        features[name, 'skew'] = stats.skew(values, axis=1)\n",
    "        features[name, 'kurtosis'] = stats.kurtosis(values, axis=1)\n",
    "        features[name, 'median'] = np.median(values, axis=1)\n",
    "        features[name, 'min'] = np.min(values, axis=1)\n",
    "        features[name, 'max'] = np.max(values, axis=1)\n",
    "\n",
    "    try:\n",
    "        filepath = get_audio_path(set_name,tid)\n",
    "        file = await getFile(zipe,filepath)\n",
    "        x, sr = librosa.load(filepath, sr=None, mono=True)  # kaiser_fast\n",
    "        stft = np.abs(librosa.stft(x, n_fft=2048, hop_length=512))\n",
    "        assert stft.shape[0] == 1 + 2048 // 2\n",
    "        assert np.ceil(len(x)/512) <= stft.shape[1] <= np.ceil(len(x)/512)+1\n",
    "        del x\n",
    "        \n",
    "        f = librosa.feature.melspectrogram(S=stft)\n",
    "        feature_stats('mel_spec', f)\n",
    "        del stft\n",
    "        os.remove(\"./\"+filepath)\n",
    "\n",
    "    except Exception as e:\n",
    "        print('{}: {}'.format(tid, repr(e)))\n",
    "\n",
    "    return features"
   ]
  },
  {
   "cell_type": "code",
   "execution_count": 60,
   "id": "22f4e659-4249-4bb6-ab5a-6f626b4bfea8",
   "metadata": {},
   "outputs": [],
   "source": [
    "async def getFile(zipe,filepath):\n",
    "    return zipe.extract(filepath)"
   ]
  },
  {
   "cell_type": "code",
   "execution_count": 61,
   "id": "00e86b33-8eb8-47fb-9e73-ff412aae80b9",
   "metadata": {},
   "outputs": [],
   "source": [
    "features = pd.DataFrame(index=tracks.index,\n",
    "                            columns=columns(), dtype=np.float32)"
   ]
  },
  {
   "cell_type": "code",
   "execution_count": 62,
   "id": "7c0c30c1-0f53-47cb-bced-6b78ec777e54",
   "metadata": {},
   "outputs": [],
   "source": [
    "async def getF():\n",
    "    \n",
    "    tids = tracks.iloc[94958:95000].index\n",
    "    from remotezip import RemoteZip\n",
    "    with RemoteZip('https://os.unil.cloud.switch.ch/fma/fma_full.zip') as zip:\n",
    "        for ids in tids:\n",
    "            set_id = tracks.iloc[94958:95000].loc[ids]['set','subset']\n",
    "            f = await compute_features(ids,set_id,zip)\n",
    "            features.loc[f.name] = f\n",
    "    \n",
    "        return features\n",
    "\n",
    "    \n",
    "        \n",
    "    "
   ]
  },
  {
   "cell_type": "code",
   "execution_count": 63,
   "id": "6b2facb8-343e-454e-982b-a37f0dd132ed",
   "metadata": {
    "scrolled": true
   },
   "outputs": [
    {
     "name": "stdout",
     "output_type": "stream",
     "text": [
      "fma_full/138/138892.mp3\n",
      "fma_full/138/138893.mp3\n",
      "fma_full/138/138894.mp3\n",
      "fma_full/138/138895.mp3\n",
      "fma_full/138/138896.mp3\n",
      "fma_full/138/138897.mp3\n",
      "fma_full/138/138898.mp3\n",
      "fma_full/138/138899.mp3\n",
      "fma_full/138/138900.mp3\n",
      "fma_full/138/138901.mp3\n",
      "fma_full/138/138902.mp3\n",
      "fma_full/138/138903.mp3\n",
      "fma_full/138/138904.mp3\n",
      "fma_full/138/138905.mp3\n",
      "fma_full/138/138906.mp3\n",
      "fma_full/138/138907.mp3\n",
      "fma_full/138/138908.mp3\n",
      "fma_full/138/138917.mp3\n",
      "fma_full/138/138918.mp3\n",
      "fma_full/138/138919.mp3\n",
      "fma_full/138/138920.mp3\n",
      "fma_full/138/138921.mp3\n",
      "fma_full/138/138922.mp3\n",
      "fma_full/138/138923.mp3\n",
      "fma_full/138/138924.mp3\n",
      "fma_full/138/138925.mp3\n",
      "fma_full/138/138926.mp3\n",
      "fma_full/138/138927.mp3\n",
      "fma_full/138/138928.mp3\n",
      "fma_full/138/138929.mp3\n",
      "fma_full/138/138930.mp3\n",
      "fma_full/138/138931.mp3\n",
      "fma_full/138/138932.mp3\n",
      "fma_full/138/138933.mp3\n",
      "fma_full/138/138934.mp3\n",
      "fma_full/138/138935.mp3\n",
      "fma_full/138/138936.mp3\n",
      "fma_full/138/138937.mp3\n",
      "fma_full/138/138938.mp3\n",
      "fma_full/138/138939.mp3\n",
      "fma_full/138/138940.mp3\n",
      "fma_full/138/138941.mp3\n"
     ]
    }
   ],
   "source": [
    "mel_spec_features = await getF()"
   ]
  },
  {
   "cell_type": "code",
   "execution_count": 71,
   "id": "f4065cb3-b573-46b0-8a02-c622d0c1912d",
   "metadata": {},
   "outputs": [],
   "source": [
    "mel_spec_features.to_csv(\"mel_spec_feature_all_94958_95000.csv\")"
   ]
  },
  {
   "cell_type": "code",
   "execution_count": null,
   "id": "7a5d2395-d63b-482b-9976-842136b64db8",
   "metadata": {},
   "outputs": [],
   "source": []
  }
 ],
 "metadata": {
  "kernelspec": {
   "display_name": "Python [conda env:base] *",
   "language": "python",
   "name": "conda-base-py"
  },
  "language_info": {
   "codemirror_mode": {
    "name": "ipython",
    "version": 3
   },
   "file_extension": ".py",
   "mimetype": "text/x-python",
   "name": "python",
   "nbconvert_exporter": "python",
   "pygments_lexer": "ipython3",
   "version": "3.12.7"
  }
 },
 "nbformat": 4,
 "nbformat_minor": 5
}
