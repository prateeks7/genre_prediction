{
 "cells": [
  {
   "cell_type": "code",
   "execution_count": 1,
   "id": "6ba34c6b-4725-4075-a43e-29c388ff2c91",
   "metadata": {},
   "outputs": [],
   "source": [
    "import pandas as pd"
   ]
  },
  {
   "cell_type": "code",
   "execution_count": 5,
   "id": "52d34787-28d6-4c91-b573-94e3967d0901",
   "metadata": {},
   "outputs": [],
   "source": [
    "all_features = pd.read_csv(\"all_features.csv\",header=[0,1,2],index_col=0)"
   ]
  },
  {
   "cell_type": "code",
   "execution_count": null,
   "id": "99ba2fe9-2e96-4551-91dd-065db98c1405",
   "metadata": {},
   "outputs": [],
   "source": [
    "genres = "
   ]
  }
 ],
 "metadata": {
  "kernelspec": {
   "display_name": "Python [conda env:base] *",
   "language": "python",
   "name": "conda-base-py"
  },
  "language_info": {
   "codemirror_mode": {
    "name": "ipython",
    "version": 3
   },
   "file_extension": ".py",
   "mimetype": "text/x-python",
   "name": "python",
   "nbconvert_exporter": "python",
   "pygments_lexer": "ipython3",
   "version": "3.12.7"
  }
 },
 "nbformat": 4,
 "nbformat_minor": 5
}
