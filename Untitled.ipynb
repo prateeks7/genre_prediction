{
 "cells": [
  {
   "cell_type": "code",
   "execution_count": 3,
   "id": "303b34d0-01a6-4b7b-8373-7df926b934ed",
   "metadata": {},
   "outputs": [],
   "source": [
    "import pandas as pd"
   ]
  },
  {
   "cell_type": "code",
   "execution_count": null,
   "id": "61222150-3a6b-4164-bb1c-048b141c95a8",
   "metadata": {},
   "outputs": [],
   "source": [
    "prev_features = pd.read_csv(\"Clean\")"
   ]
  }
 ],
 "metadata": {
  "kernelspec": {
   "display_name": "Python [conda env:base] *",
   "language": "python",
   "name": "conda-base-py"
  },
  "language_info": {
   "codemirror_mode": {
    "name": "ipython",
    "version": 3
   },
   "file_extension": ".py",
   "mimetype": "text/x-python",
   "name": "python",
   "nbconvert_exporter": "python",
   "pygments_lexer": "ipython3",
   "version": "3.12.7"
  }
 },
 "nbformat": 4,
 "nbformat_minor": 5
}
