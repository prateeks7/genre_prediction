{
 "cells": [
  {
   "cell_type": "code",
   "execution_count": 1,
   "id": "d42f1c32-7108-4ce1-a77c-dbe9988bc5be",
   "metadata": {},
   "outputs": [
    {
     "name": "stdout",
     "output_type": "stream",
     "text": [
      "Requirement already satisfied: xgboost==1.7.6 in /opt/anaconda3/lib/python3.12/site-packages (1.7.6)\n",
      "Requirement already satisfied: numpy in /opt/anaconda3/lib/python3.12/site-packages (from xgboost==1.7.6) (1.26.4)\n",
      "Requirement already satisfied: scipy in /opt/anaconda3/lib/python3.12/site-packages (from xgboost==1.7.6) (1.15.2)\n",
      "Note: you may need to restart the kernel to use updated packages.\n"
     ]
    }
   ],
   "source": [
    "pip install xgboost==1.7.6\n"
   ]
  },
  {
   "cell_type": "code",
   "execution_count": 2,
   "id": "f5debd1e-529f-4472-9dba-2cc57e2e2fc8",
   "metadata": {},
   "outputs": [],
   "source": [
    "import pandas as pd"
   ]
  },
  {
   "cell_type": "code",
   "execution_count": 3,
   "id": "72af0e4c-d772-463b-97c2-76156ee4924c",
   "metadata": {},
   "outputs": [],
   "source": [
    "model_data = pd.read_csv(\"../../Important Data/optimized_model_data.csv\",header=[0,1,2],index_col=[0])"
   ]
  },
  {
   "cell_type": "code",
   "execution_count": 5,
   "id": "87a82e05-ca94-40da-8bdb-10672d151e80",
   "metadata": {},
   "outputs": [],
   "source": [
    "model_data.columns = pd.MultiIndex.from_tuples([('','','genre_top')]+model_data.columns.to_list()[1:])"
   ]
  },
  {
   "cell_type": "code",
   "execution_count": 7,
   "id": "09b07a90-b20d-481d-b12b-ce5b8ed0729a",
   "metadata": {},
   "outputs": [],
   "source": [
    "\n",
    "model_data.dropna(inplace=True)"
   ]
  },
  {
   "cell_type": "code",
   "execution_count": 8,
   "id": "e898073f-cec9-4071-acb6-1aa9128b6197",
   "metadata": {},
   "outputs": [],
   "source": [
    "from sklearn.model_selection import train_test_split\n",
    "from xgboost import XGBClassifier\n",
    "from sklearn.metrics import classification_report"
   ]
  },
  {
   "cell_type": "code",
   "execution_count": 9,
   "id": "3fa5e6f5-b499-4140-adcf-cd351a171d28",
   "metadata": {},
   "outputs": [],
   "source": [
    "dictGenre = {\"Rock\":0,\"Electronic\":1,\"Pop\":2,\"Hip-Hop\":3,\"Folk\":4}"
   ]
  },
  {
   "cell_type": "code",
   "execution_count": 41,
   "id": "9e00d913-2463-4469-bbab-da5f3ac26e69",
   "metadata": {
    "scrolled": true
   },
   "outputs": [
    {
     "name": "stderr",
     "output_type": "stream",
     "text": [
      "/var/folders/gv/571nb6gs4h58lv0gw0__gy280000gn/T/ipykernel_14833/1149637687.py:2: FutureWarning: Downcasting behavior in `replace` is deprecated and will be removed in a future version. To retain the old behavior, explicitly call `result.infer_objects(copy=False)`. To opt-in to the future behavior, set `pd.set_option('future.no_silent_downcasting', True)`\n",
      "  y = model_data['','','genre_top'].replace(dictGenre)\n"
     ]
    }
   ],
   "source": [
    "X = model_data.drop([('','','genre_top')],axis=1)\n",
    "y = model_data['','','genre_top'].replace(dictGenre)"
   ]
  },
  {
   "cell_type": "code",
   "execution_count": 43,
   "id": "a335b659-f675-4214-ae1e-82b02e408917",
   "metadata": {},
   "outputs": [],
   "source": [
    "x_train, x_temp, y_train, y_temp = train_test_split(X, y, test_size=0.3)\n",
    "x_val, x_test, y_val, y_test = train_test_split(\n",
    "    x_temp, y_temp, test_size=0.5, random_state=42, stratify=y_temp)"
   ]
  },
  {
   "cell_type": "code",
   "execution_count": 45,
   "id": "ff46456b-b1a2-4977-b3b2-425b1ca29840",
   "metadata": {},
   "outputs": [],
   "source": [
    "from sklearn.utils.class_weight import compute_class_weight\n",
    "\n",
    "import numpy as np\n",
    "classes = np.unique(y_train)\n",
    "class_weights = compute_class_weight('balanced', classes=classes, y=y_train)\n",
    "\n",
    "# Now create sample weights\n",
    "sample_weights = np.array([class_weights[label] for label in y_train])"
   ]
  },
  {
   "cell_type": "code",
   "execution_count": 47,
   "id": "22d29b10-0b03-455b-9b80-35143340a458",
   "metadata": {},
   "outputs": [
    {
     "name": "stderr",
     "output_type": "stream",
     "text": [
      "/opt/anaconda3/lib/python3.12/site-packages/xgboost/sklearn.py:1395: UserWarning: `use_label_encoder` is deprecated in 1.7.0.\n",
      "  warnings.warn(\"`use_label_encoder` is deprecated in 1.7.0.\")\n"
     ]
    }
   ],
   "source": [
    "model = XGBClassifier(subsample= 0.8, reg_alpha=2.0,reg_lambda=2.0, gamma=2.0, n_estimators= 1500,min_child_weight=5, max_depth= 4, learning_rate= 0.02, colsample_bytree= 0.7,eval_metric='mlogloss',use_label_encoder=False, verbosity=1)\n"
   ]
  },
  {
   "cell_type": "code",
   "execution_count": 49,
   "id": "2de1afe8-ca02-4e44-98a9-990bfd21b7f7",
   "metadata": {
    "scrolled": true
   },
   "outputs": [
    {
     "name": "stderr",
     "output_type": "stream",
     "text": [
      "/opt/anaconda3/lib/python3.12/site-packages/xgboost/sklearn.py:835: UserWarning: `early_stopping_rounds` in `fit` method is deprecated for better compatibility with scikit-learn, use `early_stopping_rounds` in constructor or`set_params` instead.\n",
      "  warnings.warn(\n"
     ]
    },
    {
     "name": "stdout",
     "output_type": "stream",
     "text": [
      "[0]\tvalidation_0-mlogloss:1.59418\tvalidation_1-mlogloss:1.59493\n",
      "[1]\tvalidation_0-mlogloss:1.57957\tvalidation_1-mlogloss:1.58110\n",
      "[2]\tvalidation_0-mlogloss:1.56544\tvalidation_1-mlogloss:1.56773\n",
      "[3]\tvalidation_0-mlogloss:1.55155\tvalidation_1-mlogloss:1.55467\n",
      "[4]\tvalidation_0-mlogloss:1.53819\tvalidation_1-mlogloss:1.54207\n",
      "[5]\tvalidation_0-mlogloss:1.52513\tvalidation_1-mlogloss:1.52953\n",
      "[6]\tvalidation_0-mlogloss:1.51232\tvalidation_1-mlogloss:1.51725\n",
      "[7]\tvalidation_0-mlogloss:1.49997\tvalidation_1-mlogloss:1.50566\n",
      "[8]\tvalidation_0-mlogloss:1.48785\tvalidation_1-mlogloss:1.49407\n",
      "[9]\tvalidation_0-mlogloss:1.47616\tvalidation_1-mlogloss:1.48330\n",
      "[10]\tvalidation_0-mlogloss:1.46456\tvalidation_1-mlogloss:1.47229\n",
      "[11]\tvalidation_0-mlogloss:1.45326\tvalidation_1-mlogloss:1.46169\n",
      "[12]\tvalidation_0-mlogloss:1.44227\tvalidation_1-mlogloss:1.45130\n",
      "[13]\tvalidation_0-mlogloss:1.43163\tvalidation_1-mlogloss:1.44139\n",
      "[14]\tvalidation_0-mlogloss:1.42091\tvalidation_1-mlogloss:1.43128\n",
      "[15]\tvalidation_0-mlogloss:1.41075\tvalidation_1-mlogloss:1.42181\n",
      "[16]\tvalidation_0-mlogloss:1.40083\tvalidation_1-mlogloss:1.41239\n",
      "[17]\tvalidation_0-mlogloss:1.39091\tvalidation_1-mlogloss:1.40306\n",
      "[18]\tvalidation_0-mlogloss:1.38142\tvalidation_1-mlogloss:1.39430\n",
      "[19]\tvalidation_0-mlogloss:1.37196\tvalidation_1-mlogloss:1.38569\n",
      "[20]\tvalidation_0-mlogloss:1.36280\tvalidation_1-mlogloss:1.37706\n",
      "[21]\tvalidation_0-mlogloss:1.35403\tvalidation_1-mlogloss:1.36900\n",
      "[22]\tvalidation_0-mlogloss:1.34544\tvalidation_1-mlogloss:1.36107\n",
      "[23]\tvalidation_0-mlogloss:1.33682\tvalidation_1-mlogloss:1.35319\n",
      "[24]\tvalidation_0-mlogloss:1.32839\tvalidation_1-mlogloss:1.34541\n",
      "[25]\tvalidation_0-mlogloss:1.32021\tvalidation_1-mlogloss:1.33782\n",
      "[26]\tvalidation_0-mlogloss:1.31237\tvalidation_1-mlogloss:1.33062\n",
      "[27]\tvalidation_0-mlogloss:1.30433\tvalidation_1-mlogloss:1.32313\n",
      "[28]\tvalidation_0-mlogloss:1.29634\tvalidation_1-mlogloss:1.31564\n",
      "[29]\tvalidation_0-mlogloss:1.28876\tvalidation_1-mlogloss:1.30872\n",
      "[30]\tvalidation_0-mlogloss:1.28118\tvalidation_1-mlogloss:1.30182\n",
      "[31]\tvalidation_0-mlogloss:1.27366\tvalidation_1-mlogloss:1.29505\n",
      "[32]\tvalidation_0-mlogloss:1.26644\tvalidation_1-mlogloss:1.28843\n",
      "[33]\tvalidation_0-mlogloss:1.25932\tvalidation_1-mlogloss:1.28207\n",
      "[34]\tvalidation_0-mlogloss:1.25245\tvalidation_1-mlogloss:1.27566\n",
      "[35]\tvalidation_0-mlogloss:1.24550\tvalidation_1-mlogloss:1.26927\n",
      "[36]\tvalidation_0-mlogloss:1.23883\tvalidation_1-mlogloss:1.26309\n",
      "[37]\tvalidation_0-mlogloss:1.23213\tvalidation_1-mlogloss:1.25685\n",
      "[38]\tvalidation_0-mlogloss:1.22547\tvalidation_1-mlogloss:1.25069\n",
      "[39]\tvalidation_0-mlogloss:1.21913\tvalidation_1-mlogloss:1.24489\n",
      "[40]\tvalidation_0-mlogloss:1.21284\tvalidation_1-mlogloss:1.23914\n",
      "[41]\tvalidation_0-mlogloss:1.20649\tvalidation_1-mlogloss:1.23352\n",
      "[42]\tvalidation_0-mlogloss:1.20026\tvalidation_1-mlogloss:1.22783\n",
      "[43]\tvalidation_0-mlogloss:1.19430\tvalidation_1-mlogloss:1.22238\n",
      "[44]\tvalidation_0-mlogloss:1.18845\tvalidation_1-mlogloss:1.21710\n",
      "[45]\tvalidation_0-mlogloss:1.18251\tvalidation_1-mlogloss:1.21173\n",
      "[46]\tvalidation_0-mlogloss:1.17690\tvalidation_1-mlogloss:1.20665\n",
      "[47]\tvalidation_0-mlogloss:1.17128\tvalidation_1-mlogloss:1.20147\n",
      "[48]\tvalidation_0-mlogloss:1.16576\tvalidation_1-mlogloss:1.19652\n",
      "[49]\tvalidation_0-mlogloss:1.16025\tvalidation_1-mlogloss:1.19154\n",
      "[50]\tvalidation_0-mlogloss:1.15501\tvalidation_1-mlogloss:1.18691\n",
      "[51]\tvalidation_0-mlogloss:1.14968\tvalidation_1-mlogloss:1.18216\n",
      "[52]\tvalidation_0-mlogloss:1.14459\tvalidation_1-mlogloss:1.17765\n",
      "[53]\tvalidation_0-mlogloss:1.13939\tvalidation_1-mlogloss:1.17305\n",
      "[54]\tvalidation_0-mlogloss:1.13431\tvalidation_1-mlogloss:1.16860\n",
      "[55]\tvalidation_0-mlogloss:1.12926\tvalidation_1-mlogloss:1.16415\n",
      "[56]\tvalidation_0-mlogloss:1.12458\tvalidation_1-mlogloss:1.15990\n",
      "[57]\tvalidation_0-mlogloss:1.11975\tvalidation_1-mlogloss:1.15570\n",
      "[58]\tvalidation_0-mlogloss:1.11511\tvalidation_1-mlogloss:1.15159\n",
      "[59]\tvalidation_0-mlogloss:1.11035\tvalidation_1-mlogloss:1.14721\n",
      "[60]\tvalidation_0-mlogloss:1.10571\tvalidation_1-mlogloss:1.14305\n",
      "[61]\tvalidation_0-mlogloss:1.10122\tvalidation_1-mlogloss:1.13899\n",
      "[62]\tvalidation_0-mlogloss:1.09679\tvalidation_1-mlogloss:1.13507\n",
      "[63]\tvalidation_0-mlogloss:1.09247\tvalidation_1-mlogloss:1.13116\n",
      "[64]\tvalidation_0-mlogloss:1.08805\tvalidation_1-mlogloss:1.12725\n",
      "[65]\tvalidation_0-mlogloss:1.08385\tvalidation_1-mlogloss:1.12367\n",
      "[66]\tvalidation_0-mlogloss:1.07971\tvalidation_1-mlogloss:1.12008\n",
      "[67]\tvalidation_0-mlogloss:1.07554\tvalidation_1-mlogloss:1.11648\n",
      "[68]\tvalidation_0-mlogloss:1.07144\tvalidation_1-mlogloss:1.11289\n",
      "[69]\tvalidation_0-mlogloss:1.06748\tvalidation_1-mlogloss:1.10948\n",
      "[70]\tvalidation_0-mlogloss:1.06350\tvalidation_1-mlogloss:1.10590\n",
      "[71]\tvalidation_0-mlogloss:1.05947\tvalidation_1-mlogloss:1.10239\n",
      "[72]\tvalidation_0-mlogloss:1.05548\tvalidation_1-mlogloss:1.09897\n",
      "[73]\tvalidation_0-mlogloss:1.05177\tvalidation_1-mlogloss:1.09579\n",
      "[74]\tvalidation_0-mlogloss:1.04804\tvalidation_1-mlogloss:1.09251\n",
      "[75]\tvalidation_0-mlogloss:1.04425\tvalidation_1-mlogloss:1.08920\n",
      "[76]\tvalidation_0-mlogloss:1.04060\tvalidation_1-mlogloss:1.08594\n",
      "[77]\tvalidation_0-mlogloss:1.03679\tvalidation_1-mlogloss:1.08266\n",
      "[78]\tvalidation_0-mlogloss:1.03316\tvalidation_1-mlogloss:1.07953\n",
      "[79]\tvalidation_0-mlogloss:1.02964\tvalidation_1-mlogloss:1.07643\n",
      "[80]\tvalidation_0-mlogloss:1.02621\tvalidation_1-mlogloss:1.07341\n",
      "[81]\tvalidation_0-mlogloss:1.02287\tvalidation_1-mlogloss:1.07055\n",
      "[82]\tvalidation_0-mlogloss:1.01938\tvalidation_1-mlogloss:1.06761\n",
      "[83]\tvalidation_0-mlogloss:1.01600\tvalidation_1-mlogloss:1.06456\n",
      "[84]\tvalidation_0-mlogloss:1.01259\tvalidation_1-mlogloss:1.06162\n",
      "[85]\tvalidation_0-mlogloss:1.00928\tvalidation_1-mlogloss:1.05877\n",
      "[86]\tvalidation_0-mlogloss:1.00604\tvalidation_1-mlogloss:1.05590\n",
      "[87]\tvalidation_0-mlogloss:1.00280\tvalidation_1-mlogloss:1.05319\n",
      "[88]\tvalidation_0-mlogloss:0.99962\tvalidation_1-mlogloss:1.05041\n",
      "[89]\tvalidation_0-mlogloss:0.99651\tvalidation_1-mlogloss:1.04789\n",
      "[90]\tvalidation_0-mlogloss:0.99336\tvalidation_1-mlogloss:1.04526\n",
      "[91]\tvalidation_0-mlogloss:0.99035\tvalidation_1-mlogloss:1.04264\n",
      "[92]\tvalidation_0-mlogloss:0.98725\tvalidation_1-mlogloss:1.03997\n",
      "[93]\tvalidation_0-mlogloss:0.98428\tvalidation_1-mlogloss:1.03740\n",
      "[94]\tvalidation_0-mlogloss:0.98126\tvalidation_1-mlogloss:1.03484\n",
      "[95]\tvalidation_0-mlogloss:0.97828\tvalidation_1-mlogloss:1.03234\n",
      "[96]\tvalidation_0-mlogloss:0.97529\tvalidation_1-mlogloss:1.02968\n",
      "[97]\tvalidation_0-mlogloss:0.97245\tvalidation_1-mlogloss:1.02722\n",
      "[98]\tvalidation_0-mlogloss:0.96963\tvalidation_1-mlogloss:1.02481\n",
      "[99]\tvalidation_0-mlogloss:0.96690\tvalidation_1-mlogloss:1.02254\n",
      "[100]\tvalidation_0-mlogloss:0.96398\tvalidation_1-mlogloss:1.02006\n",
      "[101]\tvalidation_0-mlogloss:0.96135\tvalidation_1-mlogloss:1.01783\n",
      "[102]\tvalidation_0-mlogloss:0.95853\tvalidation_1-mlogloss:1.01548\n",
      "[103]\tvalidation_0-mlogloss:0.95591\tvalidation_1-mlogloss:1.01344\n",
      "[104]\tvalidation_0-mlogloss:0.95328\tvalidation_1-mlogloss:1.01121\n",
      "[105]\tvalidation_0-mlogloss:0.95059\tvalidation_1-mlogloss:1.00891\n",
      "[106]\tvalidation_0-mlogloss:0.94809\tvalidation_1-mlogloss:1.00683\n",
      "[107]\tvalidation_0-mlogloss:0.94551\tvalidation_1-mlogloss:1.00464\n",
      "[108]\tvalidation_0-mlogloss:0.94292\tvalidation_1-mlogloss:1.00250\n",
      "[109]\tvalidation_0-mlogloss:0.94025\tvalidation_1-mlogloss:1.00025\n",
      "[110]\tvalidation_0-mlogloss:0.93771\tvalidation_1-mlogloss:0.99818\n",
      "[111]\tvalidation_0-mlogloss:0.93534\tvalidation_1-mlogloss:0.99617\n",
      "[112]\tvalidation_0-mlogloss:0.93305\tvalidation_1-mlogloss:0.99439\n",
      "[113]\tvalidation_0-mlogloss:0.93067\tvalidation_1-mlogloss:0.99245\n",
      "[114]\tvalidation_0-mlogloss:0.92827\tvalidation_1-mlogloss:0.99039\n",
      "[115]\tvalidation_0-mlogloss:0.92595\tvalidation_1-mlogloss:0.98843\n",
      "[116]\tvalidation_0-mlogloss:0.92365\tvalidation_1-mlogloss:0.98652\n",
      "[117]\tvalidation_0-mlogloss:0.92132\tvalidation_1-mlogloss:0.98454\n",
      "[118]\tvalidation_0-mlogloss:0.91903\tvalidation_1-mlogloss:0.98266\n",
      "[119]\tvalidation_0-mlogloss:0.91677\tvalidation_1-mlogloss:0.98073\n",
      "[120]\tvalidation_0-mlogloss:0.91454\tvalidation_1-mlogloss:0.97889\n",
      "[121]\tvalidation_0-mlogloss:0.91237\tvalidation_1-mlogloss:0.97703\n",
      "[122]\tvalidation_0-mlogloss:0.91010\tvalidation_1-mlogloss:0.97515\n",
      "[123]\tvalidation_0-mlogloss:0.90790\tvalidation_1-mlogloss:0.97327\n",
      "[124]\tvalidation_0-mlogloss:0.90579\tvalidation_1-mlogloss:0.97149\n",
      "[125]\tvalidation_0-mlogloss:0.90368\tvalidation_1-mlogloss:0.96968\n",
      "[126]\tvalidation_0-mlogloss:0.90154\tvalidation_1-mlogloss:0.96792\n",
      "[127]\tvalidation_0-mlogloss:0.89939\tvalidation_1-mlogloss:0.96603\n",
      "[128]\tvalidation_0-mlogloss:0.89735\tvalidation_1-mlogloss:0.96426\n",
      "[129]\tvalidation_0-mlogloss:0.89529\tvalidation_1-mlogloss:0.96256\n",
      "[130]\tvalidation_0-mlogloss:0.89336\tvalidation_1-mlogloss:0.96109\n",
      "[131]\tvalidation_0-mlogloss:0.89132\tvalidation_1-mlogloss:0.95942\n",
      "[132]\tvalidation_0-mlogloss:0.88940\tvalidation_1-mlogloss:0.95785\n",
      "[133]\tvalidation_0-mlogloss:0.88733\tvalidation_1-mlogloss:0.95618\n",
      "[134]\tvalidation_0-mlogloss:0.88527\tvalidation_1-mlogloss:0.95442\n",
      "[135]\tvalidation_0-mlogloss:0.88336\tvalidation_1-mlogloss:0.95290\n",
      "[136]\tvalidation_0-mlogloss:0.88151\tvalidation_1-mlogloss:0.95145\n",
      "[137]\tvalidation_0-mlogloss:0.87959\tvalidation_1-mlogloss:0.94997\n",
      "[138]\tvalidation_0-mlogloss:0.87772\tvalidation_1-mlogloss:0.94845\n",
      "[139]\tvalidation_0-mlogloss:0.87592\tvalidation_1-mlogloss:0.94698\n",
      "[140]\tvalidation_0-mlogloss:0.87403\tvalidation_1-mlogloss:0.94547\n",
      "[141]\tvalidation_0-mlogloss:0.87226\tvalidation_1-mlogloss:0.94395\n",
      "[142]\tvalidation_0-mlogloss:0.87045\tvalidation_1-mlogloss:0.94247\n",
      "[143]\tvalidation_0-mlogloss:0.86855\tvalidation_1-mlogloss:0.94087\n",
      "[144]\tvalidation_0-mlogloss:0.86686\tvalidation_1-mlogloss:0.93944\n",
      "[145]\tvalidation_0-mlogloss:0.86508\tvalidation_1-mlogloss:0.93795\n",
      "[146]\tvalidation_0-mlogloss:0.86324\tvalidation_1-mlogloss:0.93652\n",
      "[147]\tvalidation_0-mlogloss:0.86140\tvalidation_1-mlogloss:0.93496\n",
      "[148]\tvalidation_0-mlogloss:0.85971\tvalidation_1-mlogloss:0.93366\n",
      "[149]\tvalidation_0-mlogloss:0.85795\tvalidation_1-mlogloss:0.93230\n",
      "[150]\tvalidation_0-mlogloss:0.85629\tvalidation_1-mlogloss:0.93089\n",
      "[151]\tvalidation_0-mlogloss:0.85462\tvalidation_1-mlogloss:0.92957\n",
      "[152]\tvalidation_0-mlogloss:0.85287\tvalidation_1-mlogloss:0.92820\n",
      "[153]\tvalidation_0-mlogloss:0.85113\tvalidation_1-mlogloss:0.92687\n",
      "[154]\tvalidation_0-mlogloss:0.84945\tvalidation_1-mlogloss:0.92551\n",
      "[155]\tvalidation_0-mlogloss:0.84778\tvalidation_1-mlogloss:0.92410\n",
      "[156]\tvalidation_0-mlogloss:0.84607\tvalidation_1-mlogloss:0.92277\n",
      "[157]\tvalidation_0-mlogloss:0.84450\tvalidation_1-mlogloss:0.92149\n",
      "[158]\tvalidation_0-mlogloss:0.84283\tvalidation_1-mlogloss:0.92010\n",
      "[159]\tvalidation_0-mlogloss:0.84124\tvalidation_1-mlogloss:0.91874\n",
      "[160]\tvalidation_0-mlogloss:0.83970\tvalidation_1-mlogloss:0.91743\n",
      "[161]\tvalidation_0-mlogloss:0.83805\tvalidation_1-mlogloss:0.91618\n",
      "[162]\tvalidation_0-mlogloss:0.83646\tvalidation_1-mlogloss:0.91495\n",
      "[163]\tvalidation_0-mlogloss:0.83486\tvalidation_1-mlogloss:0.91357\n",
      "[164]\tvalidation_0-mlogloss:0.83333\tvalidation_1-mlogloss:0.91241\n",
      "[165]\tvalidation_0-mlogloss:0.83184\tvalidation_1-mlogloss:0.91122\n",
      "[166]\tvalidation_0-mlogloss:0.83027\tvalidation_1-mlogloss:0.90998\n",
      "[167]\tvalidation_0-mlogloss:0.82865\tvalidation_1-mlogloss:0.90866\n",
      "[168]\tvalidation_0-mlogloss:0.82709\tvalidation_1-mlogloss:0.90744\n",
      "[169]\tvalidation_0-mlogloss:0.82564\tvalidation_1-mlogloss:0.90636\n",
      "[170]\tvalidation_0-mlogloss:0.82424\tvalidation_1-mlogloss:0.90520\n",
      "[171]\tvalidation_0-mlogloss:0.82279\tvalidation_1-mlogloss:0.90398\n",
      "[172]\tvalidation_0-mlogloss:0.82138\tvalidation_1-mlogloss:0.90292\n",
      "[173]\tvalidation_0-mlogloss:0.81997\tvalidation_1-mlogloss:0.90190\n",
      "[174]\tvalidation_0-mlogloss:0.81857\tvalidation_1-mlogloss:0.90079\n",
      "[175]\tvalidation_0-mlogloss:0.81713\tvalidation_1-mlogloss:0.89963\n",
      "[176]\tvalidation_0-mlogloss:0.81568\tvalidation_1-mlogloss:0.89847\n",
      "[177]\tvalidation_0-mlogloss:0.81424\tvalidation_1-mlogloss:0.89735\n",
      "[178]\tvalidation_0-mlogloss:0.81283\tvalidation_1-mlogloss:0.89631\n",
      "[179]\tvalidation_0-mlogloss:0.81145\tvalidation_1-mlogloss:0.89513\n",
      "[180]\tvalidation_0-mlogloss:0.81009\tvalidation_1-mlogloss:0.89402\n",
      "[181]\tvalidation_0-mlogloss:0.80869\tvalidation_1-mlogloss:0.89299\n",
      "[182]\tvalidation_0-mlogloss:0.80737\tvalidation_1-mlogloss:0.89197\n",
      "[183]\tvalidation_0-mlogloss:0.80606\tvalidation_1-mlogloss:0.89104\n",
      "[184]\tvalidation_0-mlogloss:0.80466\tvalidation_1-mlogloss:0.88990\n",
      "[185]\tvalidation_0-mlogloss:0.80326\tvalidation_1-mlogloss:0.88881\n",
      "[186]\tvalidation_0-mlogloss:0.80196\tvalidation_1-mlogloss:0.88777\n",
      "[187]\tvalidation_0-mlogloss:0.80059\tvalidation_1-mlogloss:0.88672\n",
      "[188]\tvalidation_0-mlogloss:0.79938\tvalidation_1-mlogloss:0.88578\n",
      "[189]\tvalidation_0-mlogloss:0.79811\tvalidation_1-mlogloss:0.88480\n",
      "[190]\tvalidation_0-mlogloss:0.79684\tvalidation_1-mlogloss:0.88374\n",
      "[191]\tvalidation_0-mlogloss:0.79552\tvalidation_1-mlogloss:0.88273\n",
      "[192]\tvalidation_0-mlogloss:0.79427\tvalidation_1-mlogloss:0.88175\n",
      "[193]\tvalidation_0-mlogloss:0.79305\tvalidation_1-mlogloss:0.88095\n",
      "[194]\tvalidation_0-mlogloss:0.79181\tvalidation_1-mlogloss:0.88005\n",
      "[195]\tvalidation_0-mlogloss:0.79053\tvalidation_1-mlogloss:0.87908\n",
      "[196]\tvalidation_0-mlogloss:0.78927\tvalidation_1-mlogloss:0.87814\n",
      "[197]\tvalidation_0-mlogloss:0.78801\tvalidation_1-mlogloss:0.87719\n",
      "[198]\tvalidation_0-mlogloss:0.78676\tvalidation_1-mlogloss:0.87627\n",
      "[199]\tvalidation_0-mlogloss:0.78548\tvalidation_1-mlogloss:0.87523\n",
      "[200]\tvalidation_0-mlogloss:0.78434\tvalidation_1-mlogloss:0.87436\n",
      "[201]\tvalidation_0-mlogloss:0.78316\tvalidation_1-mlogloss:0.87344\n",
      "[202]\tvalidation_0-mlogloss:0.78199\tvalidation_1-mlogloss:0.87258\n",
      "[203]\tvalidation_0-mlogloss:0.78073\tvalidation_1-mlogloss:0.87150\n",
      "[204]\tvalidation_0-mlogloss:0.77959\tvalidation_1-mlogloss:0.87059\n",
      "[205]\tvalidation_0-mlogloss:0.77849\tvalidation_1-mlogloss:0.86977\n",
      "[206]\tvalidation_0-mlogloss:0.77725\tvalidation_1-mlogloss:0.86880\n",
      "[207]\tvalidation_0-mlogloss:0.77606\tvalidation_1-mlogloss:0.86790\n",
      "[208]\tvalidation_0-mlogloss:0.77493\tvalidation_1-mlogloss:0.86711\n",
      "[209]\tvalidation_0-mlogloss:0.77381\tvalidation_1-mlogloss:0.86631\n",
      "[210]\tvalidation_0-mlogloss:0.77264\tvalidation_1-mlogloss:0.86549\n",
      "[211]\tvalidation_0-mlogloss:0.77141\tvalidation_1-mlogloss:0.86465\n",
      "[212]\tvalidation_0-mlogloss:0.77026\tvalidation_1-mlogloss:0.86371\n",
      "[213]\tvalidation_0-mlogloss:0.76913\tvalidation_1-mlogloss:0.86290\n",
      "[214]\tvalidation_0-mlogloss:0.76807\tvalidation_1-mlogloss:0.86205\n",
      "[215]\tvalidation_0-mlogloss:0.76692\tvalidation_1-mlogloss:0.86119\n",
      "[216]\tvalidation_0-mlogloss:0.76579\tvalidation_1-mlogloss:0.86033\n",
      "[217]\tvalidation_0-mlogloss:0.76462\tvalidation_1-mlogloss:0.85945\n",
      "[218]\tvalidation_0-mlogloss:0.76357\tvalidation_1-mlogloss:0.85871\n",
      "[219]\tvalidation_0-mlogloss:0.76240\tvalidation_1-mlogloss:0.85780\n",
      "[220]\tvalidation_0-mlogloss:0.76131\tvalidation_1-mlogloss:0.85706\n",
      "[221]\tvalidation_0-mlogloss:0.76022\tvalidation_1-mlogloss:0.85624\n",
      "[222]\tvalidation_0-mlogloss:0.75921\tvalidation_1-mlogloss:0.85553\n",
      "[223]\tvalidation_0-mlogloss:0.75810\tvalidation_1-mlogloss:0.85468\n",
      "[224]\tvalidation_0-mlogloss:0.75703\tvalidation_1-mlogloss:0.85386\n",
      "[225]\tvalidation_0-mlogloss:0.75595\tvalidation_1-mlogloss:0.85305\n",
      "[226]\tvalidation_0-mlogloss:0.75497\tvalidation_1-mlogloss:0.85231\n",
      "[227]\tvalidation_0-mlogloss:0.75386\tvalidation_1-mlogloss:0.85144\n",
      "[228]\tvalidation_0-mlogloss:0.75281\tvalidation_1-mlogloss:0.85064\n",
      "[229]\tvalidation_0-mlogloss:0.75176\tvalidation_1-mlogloss:0.84986\n",
      "[230]\tvalidation_0-mlogloss:0.75067\tvalidation_1-mlogloss:0.84902\n",
      "[231]\tvalidation_0-mlogloss:0.74963\tvalidation_1-mlogloss:0.84829\n",
      "[232]\tvalidation_0-mlogloss:0.74862\tvalidation_1-mlogloss:0.84754\n",
      "[233]\tvalidation_0-mlogloss:0.74759\tvalidation_1-mlogloss:0.84673\n",
      "[234]\tvalidation_0-mlogloss:0.74660\tvalidation_1-mlogloss:0.84608\n",
      "[235]\tvalidation_0-mlogloss:0.74559\tvalidation_1-mlogloss:0.84531\n",
      "[236]\tvalidation_0-mlogloss:0.74452\tvalidation_1-mlogloss:0.84452\n",
      "[237]\tvalidation_0-mlogloss:0.74356\tvalidation_1-mlogloss:0.84389\n",
      "[238]\tvalidation_0-mlogloss:0.74258\tvalidation_1-mlogloss:0.84310\n",
      "[239]\tvalidation_0-mlogloss:0.74155\tvalidation_1-mlogloss:0.84237\n",
      "[240]\tvalidation_0-mlogloss:0.74058\tvalidation_1-mlogloss:0.84168\n",
      "[241]\tvalidation_0-mlogloss:0.73960\tvalidation_1-mlogloss:0.84107\n",
      "[242]\tvalidation_0-mlogloss:0.73866\tvalidation_1-mlogloss:0.84035\n",
      "[243]\tvalidation_0-mlogloss:0.73770\tvalidation_1-mlogloss:0.83959\n",
      "[244]\tvalidation_0-mlogloss:0.73677\tvalidation_1-mlogloss:0.83892\n",
      "[245]\tvalidation_0-mlogloss:0.73581\tvalidation_1-mlogloss:0.83831\n",
      "[246]\tvalidation_0-mlogloss:0.73490\tvalidation_1-mlogloss:0.83770\n",
      "[247]\tvalidation_0-mlogloss:0.73391\tvalidation_1-mlogloss:0.83699\n",
      "[248]\tvalidation_0-mlogloss:0.73304\tvalidation_1-mlogloss:0.83633\n",
      "[249]\tvalidation_0-mlogloss:0.73206\tvalidation_1-mlogloss:0.83571\n",
      "[250]\tvalidation_0-mlogloss:0.73117\tvalidation_1-mlogloss:0.83508\n",
      "[251]\tvalidation_0-mlogloss:0.73018\tvalidation_1-mlogloss:0.83438\n",
      "[252]\tvalidation_0-mlogloss:0.72928\tvalidation_1-mlogloss:0.83368\n",
      "[253]\tvalidation_0-mlogloss:0.72836\tvalidation_1-mlogloss:0.83301\n",
      "[254]\tvalidation_0-mlogloss:0.72739\tvalidation_1-mlogloss:0.83229\n",
      "[255]\tvalidation_0-mlogloss:0.72649\tvalidation_1-mlogloss:0.83160\n",
      "[256]\tvalidation_0-mlogloss:0.72561\tvalidation_1-mlogloss:0.83101\n",
      "[257]\tvalidation_0-mlogloss:0.72473\tvalidation_1-mlogloss:0.83035\n",
      "[258]\tvalidation_0-mlogloss:0.72376\tvalidation_1-mlogloss:0.82975\n",
      "[259]\tvalidation_0-mlogloss:0.72290\tvalidation_1-mlogloss:0.82913\n",
      "[260]\tvalidation_0-mlogloss:0.72205\tvalidation_1-mlogloss:0.82848\n",
      "[261]\tvalidation_0-mlogloss:0.72118\tvalidation_1-mlogloss:0.82792\n",
      "[262]\tvalidation_0-mlogloss:0.72036\tvalidation_1-mlogloss:0.82737\n",
      "[263]\tvalidation_0-mlogloss:0.71948\tvalidation_1-mlogloss:0.82673\n",
      "[264]\tvalidation_0-mlogloss:0.71868\tvalidation_1-mlogloss:0.82618\n",
      "[265]\tvalidation_0-mlogloss:0.71781\tvalidation_1-mlogloss:0.82550\n",
      "[266]\tvalidation_0-mlogloss:0.71701\tvalidation_1-mlogloss:0.82490\n",
      "[267]\tvalidation_0-mlogloss:0.71608\tvalidation_1-mlogloss:0.82423\n",
      "[268]\tvalidation_0-mlogloss:0.71521\tvalidation_1-mlogloss:0.82358\n",
      "[269]\tvalidation_0-mlogloss:0.71429\tvalidation_1-mlogloss:0.82296\n",
      "[270]\tvalidation_0-mlogloss:0.71345\tvalidation_1-mlogloss:0.82244\n",
      "[271]\tvalidation_0-mlogloss:0.71257\tvalidation_1-mlogloss:0.82186\n",
      "[272]\tvalidation_0-mlogloss:0.71171\tvalidation_1-mlogloss:0.82121\n",
      "[273]\tvalidation_0-mlogloss:0.71095\tvalidation_1-mlogloss:0.82068\n",
      "[274]\tvalidation_0-mlogloss:0.71007\tvalidation_1-mlogloss:0.82010\n",
      "[275]\tvalidation_0-mlogloss:0.70917\tvalidation_1-mlogloss:0.81946\n",
      "[276]\tvalidation_0-mlogloss:0.70832\tvalidation_1-mlogloss:0.81889\n",
      "[277]\tvalidation_0-mlogloss:0.70740\tvalidation_1-mlogloss:0.81826\n",
      "[278]\tvalidation_0-mlogloss:0.70651\tvalidation_1-mlogloss:0.81773\n",
      "[279]\tvalidation_0-mlogloss:0.70574\tvalidation_1-mlogloss:0.81718\n",
      "[280]\tvalidation_0-mlogloss:0.70492\tvalidation_1-mlogloss:0.81657\n",
      "[281]\tvalidation_0-mlogloss:0.70406\tvalidation_1-mlogloss:0.81595\n",
      "[282]\tvalidation_0-mlogloss:0.70326\tvalidation_1-mlogloss:0.81541\n"
     ]
    },
    {
     "ename": "KeyboardInterrupt",
     "evalue": "",
     "output_type": "error",
     "traceback": [
      "\u001b[0;31m---------------------------------------------------------------------------\u001b[0m",
      "\u001b[0;31mKeyboardInterrupt\u001b[0m                         Traceback (most recent call last)",
      "Cell \u001b[0;32mIn[49], line 1\u001b[0m\n\u001b[0;32m----> 1\u001b[0m model\u001b[38;5;241m.\u001b[39mfit(x_train,y_train,sample_weight\u001b[38;5;241m=\u001b[39msample_weights,eval_set\u001b[38;5;241m=\u001b[39m[(x_train, y_train),(x_val, y_val)],verbose\u001b[38;5;241m=\u001b[39m\u001b[38;5;28;01mTrue\u001b[39;00m,early_stopping_rounds\u001b[38;5;241m=\u001b[39m\u001b[38;5;241m25\u001b[39m)\n",
      "File \u001b[0;32m/opt/anaconda3/lib/python3.12/site-packages/xgboost/core.py:620\u001b[0m, in \u001b[0;36mrequire_keyword_args.<locals>.throw_if.<locals>.inner_f\u001b[0;34m(*args, **kwargs)\u001b[0m\n\u001b[1;32m    618\u001b[0m \u001b[38;5;28;01mfor\u001b[39;00m k, arg \u001b[38;5;129;01min\u001b[39;00m \u001b[38;5;28mzip\u001b[39m(sig\u001b[38;5;241m.\u001b[39mparameters, args):\n\u001b[1;32m    619\u001b[0m     kwargs[k] \u001b[38;5;241m=\u001b[39m arg\n\u001b[0;32m--> 620\u001b[0m \u001b[38;5;28;01mreturn\u001b[39;00m func(\u001b[38;5;241m*\u001b[39m\u001b[38;5;241m*\u001b[39mkwargs)\n",
      "File \u001b[0;32m/opt/anaconda3/lib/python3.12/site-packages/xgboost/sklearn.py:1490\u001b[0m, in \u001b[0;36mXGBClassifier.fit\u001b[0;34m(self, X, y, sample_weight, base_margin, eval_set, eval_metric, early_stopping_rounds, verbose, xgb_model, sample_weight_eval_set, base_margin_eval_set, feature_weights, callbacks)\u001b[0m\n\u001b[1;32m   1462\u001b[0m (\n\u001b[1;32m   1463\u001b[0m     model,\n\u001b[1;32m   1464\u001b[0m     metric,\n\u001b[0;32m   (...)\u001b[0m\n\u001b[1;32m   1469\u001b[0m     xgb_model, eval_metric, params, early_stopping_rounds, callbacks\n\u001b[1;32m   1470\u001b[0m )\n\u001b[1;32m   1471\u001b[0m train_dmatrix, evals \u001b[38;5;241m=\u001b[39m _wrap_evaluation_matrices(\n\u001b[1;32m   1472\u001b[0m     missing\u001b[38;5;241m=\u001b[39m\u001b[38;5;28mself\u001b[39m\u001b[38;5;241m.\u001b[39mmissing,\n\u001b[1;32m   1473\u001b[0m     X\u001b[38;5;241m=\u001b[39mX,\n\u001b[0;32m   (...)\u001b[0m\n\u001b[1;32m   1487\u001b[0m     feature_types\u001b[38;5;241m=\u001b[39m\u001b[38;5;28mself\u001b[39m\u001b[38;5;241m.\u001b[39mfeature_types,\n\u001b[1;32m   1488\u001b[0m )\n\u001b[0;32m-> 1490\u001b[0m \u001b[38;5;28mself\u001b[39m\u001b[38;5;241m.\u001b[39m_Booster \u001b[38;5;241m=\u001b[39m train(\n\u001b[1;32m   1491\u001b[0m     params,\n\u001b[1;32m   1492\u001b[0m     train_dmatrix,\n\u001b[1;32m   1493\u001b[0m     \u001b[38;5;28mself\u001b[39m\u001b[38;5;241m.\u001b[39mget_num_boosting_rounds(),\n\u001b[1;32m   1494\u001b[0m     evals\u001b[38;5;241m=\u001b[39mevals,\n\u001b[1;32m   1495\u001b[0m     early_stopping_rounds\u001b[38;5;241m=\u001b[39mearly_stopping_rounds,\n\u001b[1;32m   1496\u001b[0m     evals_result\u001b[38;5;241m=\u001b[39mevals_result,\n\u001b[1;32m   1497\u001b[0m     obj\u001b[38;5;241m=\u001b[39mobj,\n\u001b[1;32m   1498\u001b[0m     custom_metric\u001b[38;5;241m=\u001b[39mmetric,\n\u001b[1;32m   1499\u001b[0m     verbose_eval\u001b[38;5;241m=\u001b[39mverbose,\n\u001b[1;32m   1500\u001b[0m     xgb_model\u001b[38;5;241m=\u001b[39mmodel,\n\u001b[1;32m   1501\u001b[0m     callbacks\u001b[38;5;241m=\u001b[39mcallbacks,\n\u001b[1;32m   1502\u001b[0m )\n\u001b[1;32m   1504\u001b[0m \u001b[38;5;28;01mif\u001b[39;00m \u001b[38;5;129;01mnot\u001b[39;00m \u001b[38;5;28mcallable\u001b[39m(\u001b[38;5;28mself\u001b[39m\u001b[38;5;241m.\u001b[39mobjective):\n\u001b[1;32m   1505\u001b[0m     \u001b[38;5;28mself\u001b[39m\u001b[38;5;241m.\u001b[39mobjective \u001b[38;5;241m=\u001b[39m params[\u001b[38;5;124m\"\u001b[39m\u001b[38;5;124mobjective\u001b[39m\u001b[38;5;124m\"\u001b[39m]\n",
      "File \u001b[0;32m/opt/anaconda3/lib/python3.12/site-packages/xgboost/core.py:620\u001b[0m, in \u001b[0;36mrequire_keyword_args.<locals>.throw_if.<locals>.inner_f\u001b[0;34m(*args, **kwargs)\u001b[0m\n\u001b[1;32m    618\u001b[0m \u001b[38;5;28;01mfor\u001b[39;00m k, arg \u001b[38;5;129;01min\u001b[39;00m \u001b[38;5;28mzip\u001b[39m(sig\u001b[38;5;241m.\u001b[39mparameters, args):\n\u001b[1;32m    619\u001b[0m     kwargs[k] \u001b[38;5;241m=\u001b[39m arg\n\u001b[0;32m--> 620\u001b[0m \u001b[38;5;28;01mreturn\u001b[39;00m func(\u001b[38;5;241m*\u001b[39m\u001b[38;5;241m*\u001b[39mkwargs)\n",
      "File \u001b[0;32m/opt/anaconda3/lib/python3.12/site-packages/xgboost/training.py:185\u001b[0m, in \u001b[0;36mtrain\u001b[0;34m(params, dtrain, num_boost_round, evals, obj, feval, maximize, early_stopping_rounds, evals_result, verbose_eval, xgb_model, callbacks, custom_metric)\u001b[0m\n\u001b[1;32m    183\u001b[0m \u001b[38;5;28;01mif\u001b[39;00m cb_container\u001b[38;5;241m.\u001b[39mbefore_iteration(bst, i, dtrain, evals):\n\u001b[1;32m    184\u001b[0m     \u001b[38;5;28;01mbreak\u001b[39;00m\n\u001b[0;32m--> 185\u001b[0m bst\u001b[38;5;241m.\u001b[39mupdate(dtrain, i, obj)\n\u001b[1;32m    186\u001b[0m \u001b[38;5;28;01mif\u001b[39;00m cb_container\u001b[38;5;241m.\u001b[39mafter_iteration(bst, i, dtrain, evals):\n\u001b[1;32m    187\u001b[0m     \u001b[38;5;28;01mbreak\u001b[39;00m\n",
      "File \u001b[0;32m/opt/anaconda3/lib/python3.12/site-packages/xgboost/core.py:1918\u001b[0m, in \u001b[0;36mBooster.update\u001b[0;34m(self, dtrain, iteration, fobj)\u001b[0m\n\u001b[1;32m   1915\u001b[0m \u001b[38;5;28mself\u001b[39m\u001b[38;5;241m.\u001b[39m_validate_dmatrix_features(dtrain)\n\u001b[1;32m   1917\u001b[0m \u001b[38;5;28;01mif\u001b[39;00m fobj \u001b[38;5;129;01mis\u001b[39;00m \u001b[38;5;28;01mNone\u001b[39;00m:\n\u001b[0;32m-> 1918\u001b[0m     _check_call(_LIB\u001b[38;5;241m.\u001b[39mXGBoosterUpdateOneIter(\u001b[38;5;28mself\u001b[39m\u001b[38;5;241m.\u001b[39mhandle,\n\u001b[1;32m   1919\u001b[0m                                             ctypes\u001b[38;5;241m.\u001b[39mc_int(iteration),\n\u001b[1;32m   1920\u001b[0m                                             dtrain\u001b[38;5;241m.\u001b[39mhandle))\n\u001b[1;32m   1921\u001b[0m \u001b[38;5;28;01melse\u001b[39;00m:\n\u001b[1;32m   1922\u001b[0m     pred \u001b[38;5;241m=\u001b[39m \u001b[38;5;28mself\u001b[39m\u001b[38;5;241m.\u001b[39mpredict(dtrain, output_margin\u001b[38;5;241m=\u001b[39m\u001b[38;5;28;01mTrue\u001b[39;00m, training\u001b[38;5;241m=\u001b[39m\u001b[38;5;28;01mTrue\u001b[39;00m)\n",
      "\u001b[0;31mKeyboardInterrupt\u001b[0m: "
     ]
    }
   ],
   "source": [
    "model.fit(x_train,y_train,sample_weight=sample_weights,eval_set=[(x_train, y_train),(x_val, y_val)],verbose=True,early_stopping_rounds=25)"
   ]
  },
  {
   "cell_type": "code",
   "execution_count": 21,
   "id": "ad284262-57d8-40f4-9880-f57d655ef3b2",
   "metadata": {},
   "outputs": [
    {
     "ename": "NameError",
     "evalue": "name 'model' is not defined",
     "output_type": "error",
     "traceback": [
      "\u001b[0;31m---------------------------------------------------------------------------\u001b[0m",
      "\u001b[0;31mNameError\u001b[0m                                 Traceback (most recent call last)",
      "Cell \u001b[0;32mIn[21], line 1\u001b[0m\n\u001b[0;32m----> 1\u001b[0m y_pred_train \u001b[38;5;241m=\u001b[39m model\u001b[38;5;241m.\u001b[39mpredict(x_train)\n",
      "\u001b[0;31mNameError\u001b[0m: name 'model' is not defined"
     ]
    }
   ],
   "source": [
    "y_pred_train = model.predict(x_train)"
   ]
  },
  {
   "cell_type": "code",
   "execution_count": 23,
   "id": "ece7bc97-2d72-46a6-917e-4016109169d6",
   "metadata": {},
   "outputs": [
    {
     "ename": "NameError",
     "evalue": "name 'classification_report' is not defined",
     "output_type": "error",
     "traceback": [
      "\u001b[0;31m---------------------------------------------------------------------------\u001b[0m",
      "\u001b[0;31mNameError\u001b[0m                                 Traceback (most recent call last)",
      "Cell \u001b[0;32mIn[23], line 1\u001b[0m\n\u001b[0;32m----> 1\u001b[0m \u001b[38;5;28mprint\u001b[39m(classification_report(y_pred_train,y_train))\n",
      "\u001b[0;31mNameError\u001b[0m: name 'classification_report' is not defined"
     ]
    }
   ],
   "source": [
    "print(classification_report(y_pred_train,y_train))"
   ]
  },
  {
   "cell_type": "code",
   "execution_count": 25,
   "id": "f31f119f-0a5b-4b88-87aa-908a1652171b",
   "metadata": {},
   "outputs": [
    {
     "ename": "NameError",
     "evalue": "name 'model' is not defined",
     "output_type": "error",
     "traceback": [
      "\u001b[0;31m---------------------------------------------------------------------------\u001b[0m",
      "\u001b[0;31mNameError\u001b[0m                                 Traceback (most recent call last)",
      "Cell \u001b[0;32mIn[25], line 1\u001b[0m\n\u001b[0;32m----> 1\u001b[0m y_pred_val \u001b[38;5;241m=\u001b[39m model\u001b[38;5;241m.\u001b[39mpredict(x_val)\n",
      "\u001b[0;31mNameError\u001b[0m: name 'model' is not defined"
     ]
    }
   ],
   "source": [
    "y_pred_val = model.predict(x_val)"
   ]
  },
  {
   "cell_type": "code",
   "execution_count": 27,
   "id": "d4b1231f-d515-4a63-998f-ec2fa6cefc4e",
   "metadata": {},
   "outputs": [
    {
     "ename": "NameError",
     "evalue": "name 'classification_report' is not defined",
     "output_type": "error",
     "traceback": [
      "\u001b[0;31m---------------------------------------------------------------------------\u001b[0m",
      "\u001b[0;31mNameError\u001b[0m                                 Traceback (most recent call last)",
      "Cell \u001b[0;32mIn[27], line 1\u001b[0m\n\u001b[0;32m----> 1\u001b[0m \u001b[38;5;28mprint\u001b[39m(classification_report(y_pred_val,y_val))\n",
      "\u001b[0;31mNameError\u001b[0m: name 'classification_report' is not defined"
     ]
    }
   ],
   "source": [
    "print(classification_report(y_pred_val,y_val))"
   ]
  },
  {
   "cell_type": "code",
   "execution_count": 22,
   "id": "6832ab55-6f49-492b-bc1d-f8682160045a",
   "metadata": {},
   "outputs": [],
   "source": [
    "y_pred = model.predict(x_test)"
   ]
  },
  {
   "cell_type": "code",
   "execution_count": 23,
   "id": "ea84688d-f648-47d3-ba4f-05546285cdef",
   "metadata": {},
   "outputs": [
    {
     "name": "stdout",
     "output_type": "stream",
     "text": [
      "              precision    recall  f1-score   support\n",
      "\n",
      "           0       0.90      0.83      0.86      2142\n",
      "           1       0.81      0.81      0.81      1382\n",
      "           2       0.38      0.41      0.39       363\n",
      "           3       0.76      0.83      0.79       532\n",
      "           4       0.62      0.76      0.68       417\n",
      "\n",
      "    accuracy                           0.78      4836\n",
      "   macro avg       0.69      0.73      0.71      4836\n",
      "weighted avg       0.79      0.78      0.79      4836\n",
      "\n"
     ]
    }
   ],
   "source": [
    "print(classification_report(y_test,y_pred))"
   ]
  },
  {
   "cell_type": "code",
   "execution_count": 24,
   "id": "afc08af7-437c-4fff-ac13-8ed5b0b14506",
   "metadata": {},
   "outputs": [],
   "source": [
    "evals_result = model.evals_result()"
   ]
  },
  {
   "cell_type": "code",
   "execution_count": 25,
   "id": "6c57440e-14d8-42d8-8cd0-4e847b484bba",
   "metadata": {},
   "outputs": [
    {
     "data": {
      "image/png": "[encoded data removed]",
      "text/plain": [
       "<Figure size 640x480 with 1 Axes>"
      ]
     },
     "metadata": {},
     "output_type": "display_data"
    }
   ],
   "source": [
    "import matplotlib.pyplot as plt\n",
    "epochs = len(evals_result['validation_0']['mlogloss'])\n",
    "x_axis = range(0, epochs)\n",
    "plt.plot(x_axis, evals_result['validation_0']['mlogloss'], label='Train')\n",
    "plt.plot(x_axis, evals_result['validation_1']['mlogloss'], label='Validation')\n",
    "plt.legend(); plt.ylabel('Log Loss'); plt.title('XGBoost Log Loss'); plt.show()"
   ]
  },
  {
   "cell_type": "code",
   "execution_count": 26,
   "id": "26d17181-85ec-4bc1-8f53-6065ccdb8c2e",
   "metadata": {},
   "outputs": [],
   "source": [
    "optimized_data_prob = model.predict_proba(X)"
   ]
  },
  {
   "cell_type": "code",
   "execution_count": 27,
   "id": "2931a269-f63c-4316-9a14-6cadd2e31077",
   "metadata": {},
   "outputs": [],
   "source": [
    "optimized_data_prob_final = pd.DataFrame(optimized_data_prob,index=X.index,columns=[\"Rock\",\"Electronic\",\"Pop\",\"Hip-Hop\",\"Folk\"])"
   ]
  },
  {
   "cell_type": "code",
   "execution_count": 28,
   "id": "3f7a4dc5-30ce-464c-9772-d1fe450f5904",
   "metadata": {},
   "outputs": [],
   "source": [
    "optimized_data_prob_final.to_csv(\"optimized_data_prob_final.csv\")"
   ]
  },
  {
   "cell_type": "code",
   "execution_count": 46,
   "id": "c1a43fcc-73a5-4d97-b267-2b0855098381",
   "metadata": {},
   "outputs": [],
   "source": [
    "import pickle\n",
    "with open('final_optimized_classification_model.pkl', 'rb') as file:\n",
    "        model = pickle.load(file)"
   ]
  },
  {
   "cell_type": "code",
   "execution_count": 48,
   "id": "72307fb2-f225-449b-99c8-21b92c1d5a46",
   "metadata": {},
   "outputs": [],
   "source": [
    "bank_acc = pd.read_csv(\"bank_acc.csv\",index_col=[0],header=[0,1,2])"
   ]
  },
  {
   "cell_type": "code",
   "execution_count": 50,
   "id": "e3b816f8-7692-4699-9b64-9d35322bdfb6",
   "metadata": {},
   "outputs": [
    {
     "data": {
      "text/html": [
       "<div>\n",
       "<style scoped>\n",
       "    .dataframe tbody tr th:only-of-type {\n",
       "        vertical-align: middle;\n",
       "    }\n",
       "\n",
       "    .dataframe tbody tr th {\n",
       "        vertical-align: top;\n",
       "    }\n",
       "\n",
       "    .dataframe thead tr th {\n",
       "        text-align: left;\n",
       "    }\n",
       "</style>\n",
       "<table border=\"1\" class=\"dataframe\">\n",
       "  <thead>\n",
       "    <tr>\n",
       "      <th></th>\n",
       "      <th colspan=\"10\" halign=\"left\">chroma_cens</th>\n",
       "      <th>...</th>\n",
       "      <th colspan=\"10\" halign=\"left\">mel_spec</th>\n",
       "    </tr>\n",
       "    <tr>\n",
       "      <th></th>\n",
       "      <th colspan=\"10\" halign=\"left\">kurtosis</th>\n",
       "      <th>...</th>\n",
       "      <th colspan=\"10\" halign=\"left\">std</th>\n",
       "    </tr>\n",
       "    <tr>\n",
       "      <th></th>\n",
       "      <th>01</th>\n",
       "      <th>02</th>\n",
       "      <th>03</th>\n",
       "      <th>04</th>\n",
       "      <th>05</th>\n",
       "      <th>06</th>\n",
       "      <th>07</th>\n",
       "      <th>08</th>\n",
       "      <th>09</th>\n",
       "      <th>10</th>\n",
       "      <th>...</th>\n",
       "      <th>90</th>\n",
       "      <th>91</th>\n",
       "      <th>92</th>\n",
       "      <th>93</th>\n",
       "      <th>94</th>\n",
       "      <th>95</th>\n",
       "      <th>96</th>\n",
       "      <th>97</th>\n",
       "      <th>98</th>\n",
       "      <th>99</th>\n",
       "    </tr>\n",
       "  </thead>\n",
       "  <tbody>\n",
       "    <tr>\n",
       "      <th>0</th>\n",
       "      <td>-0.273852</td>\n",
       "      <td>0.846372</td>\n",
       "      <td>-1.267982</td>\n",
       "      <td>-1.048105</td>\n",
       "      <td>0.467149</td>\n",
       "      <td>0.312335</td>\n",
       "      <td>3.789103</td>\n",
       "      <td>-0.397305</td>\n",
       "      <td>1.204172</td>\n",
       "      <td>6.673942</td>\n",
       "      <td>...</td>\n",
       "      <td>0.002722</td>\n",
       "      <td>0.003452</td>\n",
       "      <td>0.00214</td>\n",
       "      <td>0.001427</td>\n",
       "      <td>0.000163</td>\n",
       "      <td>0.00001</td>\n",
       "      <td>0.000008</td>\n",
       "      <td>0.000008</td>\n",
       "      <td>0.000008</td>\n",
       "      <td>0.000008</td>\n",
       "    </tr>\n",
       "  </tbody>\n",
       "</table>\n",
       "<p>1 rows × 1414 columns</p>\n",
       "</div>"
      ],
      "text/plain": [
       "  chroma_cens                                                              \\\n",
       "     kurtosis                                                               \n",
       "           01        02        03        04        05        06        07   \n",
       "0   -0.273852  0.846372 -1.267982 -1.048105  0.467149  0.312335  3.789103   \n",
       "\n",
       "                                 ...  mel_spec                               \\\n",
       "                                 ...       std                                \n",
       "         08        09        10  ...        90        91       92        93   \n",
       "0 -0.397305  1.204172  6.673942  ...  0.002722  0.003452  0.00214  0.001427   \n",
       "\n",
       "                                                              \n",
       "                                                              \n",
       "         94       95        96        97        98        99  \n",
       "0  0.000163  0.00001  0.000008  0.000008  0.000008  0.000008  \n",
       "\n",
       "[1 rows x 1414 columns]"
      ]
     },
     "execution_count": 50,
     "metadata": {},
     "output_type": "execute_result"
    }
   ],
   "source": [
    "bank_acc"
   ]
  },
  {
   "cell_type": "code",
   "execution_count": 52,
   "id": "fc9ccc6d-894f-4fa6-9a2f-76b0911f8615",
   "metadata": {},
   "outputs": [],
   "source": [
    "bank_acc_prob = model.predict_proba(bank_acc)"
   ]
  },
  {
   "cell_type": "code",
   "execution_count": null,
   "id": "3d515019-3ee8-4ac1-b2e1-dc65e21f2f01",
   "metadata": {},
   "outputs": [],
   "source": [
    "bank_acc_prob = model.predict_proba(bank_acc)\n"
   ]
  },
  {
   "cell_type": "code",
   "execution_count": 38,
   "id": "349702a6-ace3-4749-a98a-b4927e383eef",
   "metadata": {},
   "outputs": [],
   "source": [
    "pd.DataFrame(bank_acc_prob).to_csv(\"bank_acc_prob.csv\")"
   ]
  },
  {
   "cell_type": "code",
   "execution_count": null,
   "id": "cf40c79f-b28d-4f01-92ec-def46dac5c58",
   "metadata": {},
   "outputs": [],
   "source": []
  }
 ],
 "metadata": {
  "kernelspec": {
   "display_name": "Python [conda env:base] *",
   "language": "python",
   "name": "conda-base-py"
  },
  "language_info": {
   "codemirror_mode": {
    "name": "ipython",
    "version": 3
   },
   "file_extension": ".py",
   "mimetype": "text/x-python",
   "name": "python",
   "nbconvert_exporter": "python",
   "pygments_lexer": "ipython3",
   "version": "3.12.7"
  }
 },
 "nbformat": 4,
 "nbformat_minor": 5
}
