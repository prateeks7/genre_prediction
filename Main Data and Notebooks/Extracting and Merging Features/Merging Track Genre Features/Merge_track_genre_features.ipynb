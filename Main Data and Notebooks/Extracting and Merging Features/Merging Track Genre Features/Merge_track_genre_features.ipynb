{
 "cells": [
  {
   "cell_type": "code",
   "execution_count": 20,
   "id": "64b451c8-f1d5-48b2-b322-42ebef4bf4d2",
   "metadata": {},
   "outputs": [],
   "source": [
    "import pandas as pd\n",
    "import os\n",
    "import ast"
   ]
  },
  {
   "cell_type": "code",
   "execution_count": 22,
   "id": "c1594524-76fc-417b-90f5-09d7bfaed617",
   "metadata": {},
   "outputs": [],
   "source": [
    "def load(filepath):\n",
    "\n",
    "    filename = os.path.basename(filepath)\n",
    "\n",
    "    if 'features' in filename:\n",
    "        return pd.read_csv(filepath, index_col=0, header=[0, 1, 2])\n",
    "\n",
    "    if 'echonest' in filename:\n",
    "        return pd.read_csv(filepath, index_col=0, header=[0, 1, 2])\n",
    "\n",
    "    if 'genres' in filename:\n",
    "        return pd.read_csv(filepath, index_col=0)\n",
    "\n",
    "    if 'tracks' in filename:\n",
    "        tracks = pd.read_csv(filepath, index_col=0, header=[0, 1])\n",
    "\n",
    "        COLUMNS = [('track', 'tags'), ('album', 'tags'), ('artist', 'tags'),\n",
    "                   ('track', 'genres'), ('track', 'genres_all')]\n",
    "        for column in COLUMNS:\n",
    "            tracks[column] = tracks[column].map(ast.literal_eval)\n",
    "\n",
    "        COLUMNS = [('track', 'date_created'), ('track', 'date_recorded'),\n",
    "                   ('album', 'date_created'), ('album', 'date_released'),\n",
    "                   ('artist', 'date_created'), ('artist', 'active_year_begin'),\n",
    "                   ('artist', 'active_year_end')]\n",
    "        for column in COLUMNS:\n",
    "            tracks[column] = pd.to_datetime(tracks[column])\n",
    "\n",
    "        SUBSETS = ('small', 'medium', 'large')\n",
    "        try:\n",
    "            tracks['set', 'subset'] = tracks['set', 'subset'].astype(\n",
    "                    'category', categories=SUBSETS, ordered=True)\n",
    "        except (ValueError, TypeError):\n",
    "            # the categories and ordered arguments were removed in pandas 0.25\n",
    "            tracks['set', 'subset'] = tracks['set', 'subset'].astype(\n",
    "                     pd.CategoricalDtype(categories=SUBSETS, ordered=True))\n",
    "\n",
    "        COLUMNS = [('track', 'genre_top'), ('track', 'license'),\n",
    "                   ('album', 'type'), ('album', 'information'),\n",
    "                   ('artist', 'bio')]\n",
    "        for column in COLUMNS:\n",
    "            tracks[column] = tracks[column].astype('category')\n",
    "\n",
    "        return tracks\n"
   ]
  },
  {
   "cell_type": "code",
   "execution_count": 24,
   "id": "61b62553-c9df-4542-bdac-b1af086678f4",
   "metadata": {},
   "outputs": [],
   "source": [
    "tracks = load(\"../../fma_metadata/tracks.csv\")"
   ]
  },
  {
   "cell_type": "code",
   "execution_count": 27,
   "id": "69d07a52-e1ac-49e2-a7fa-9fbc7af9f138",
   "metadata": {},
   "outputs": [],
   "source": [
    "track_genre = pd.DataFrame(tracks['track','genre_top'])"
   ]
  },
  {
   "cell_type": "code",
   "execution_count": 29,
   "id": "66689056-08f4-4cc7-90d2-53a2cc01431b",
   "metadata": {},
   "outputs": [],
   "source": [
    "track_genre.columns = pd.MultiIndex.from_tuples([(\"\",\"\",\"genre_top\")])"
   ]
  },
  {
   "cell_type": "code",
   "execution_count": 31,
   "id": "cb0b84af-4c80-458f-88f9-f69bdc434cf3",
   "metadata": {},
   "outputs": [],
   "source": [
    "features_and_mel_spec = pd.read_csv(\"../../Important Data/features_and_mel_spec.csv\",index_col=[0],header=[0,1,2])"
   ]
  },
  {
   "cell_type": "code",
   "execution_count": 35,
   "id": "ec6aa011-5cee-4bb1-b34b-43c11a408c0b",
   "metadata": {},
   "outputs": [],
   "source": [
    "track_genre_feature = track_genre.merge(features_and_mel_spec,left_index=True,right_index=True)"
   ]
  },
  {
   "cell_type": "code",
   "execution_count": 39,
   "id": "e64db60f-0187-4bdf-9c0f-e5130f13fd63",
   "metadata": {},
   "outputs": [],
   "source": [
    "track_genre_feature.to_csv(\"track_genre_feature.csv\")"
   ]
  }
 ],
 "metadata": {
  "kernelspec": {
   "display_name": "Python [conda env:base] *",
   "language": "python",
   "name": "conda-base-py"
  },
  "language_info": {
   "codemirror_mode": {
    "name": "ipython",
    "version": 3
   },
   "file_extension": ".py",
   "mimetype": "text/x-python",
   "name": "python",
   "nbconvert_exporter": "python",
   "pygments_lexer": "ipython3",
   "version": "3.12.7"
  }
 },
 "nbformat": 4,
 "nbformat_minor": 5
}
